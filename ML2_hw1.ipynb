{
  "nbformat": 4,
  "nbformat_minor": 0,
  "metadata": {
    "colab": {
      "name": "ML2_hw1.ipynb",
      "provenance": [],
      "collapsed_sections": [],
      "toc_visible": true,
      "include_colab_link": true
    },
    "kernelspec": {
      "display_name": "Python 3",
      "language": "python",
      "name": "python3"
    },
    "language_info": {
      "codemirror_mode": {
        "name": "ipython",
        "version": 3
      },
      "file_extension": ".py",
      "mimetype": "text/x-python",
      "name": "python",
      "nbconvert_exporter": "python",
      "pygments_lexer": "ipython3",
      "version": "3.7.4"
    }
  },
  "cells": [
    {
      "cell_type": "markdown",
      "metadata": {
        "id": "view-in-github",
        "colab_type": "text"
      },
      "source": [
        "<a href=\"https://colab.research.google.com/github/Shama09/files/blob/master/ML2_hw1.ipynb\" target=\"_parent\"><img src=\"https://colab.research.google.com/assets/colab-badge.svg\" alt=\"Open In Colab\"/></a>"
      ]
    },
    {
      "cell_type": "code",
      "metadata": {
        "id": "hjqudalj_d6H"
      },
      "source": [
        "import pandas as pd\n",
        "import numpy as np\n",
        "import matplotlib.pyplot as plt\n",
        "import json"
      ],
      "execution_count": 1,
      "outputs": []
    },
    {
      "cell_type": "code",
      "metadata": {
        "id": "4dsxZGU-_d6e"
      },
      "source": [
        "from sklearn.model_selection import train_test_split\n",
        "from sklearn.ensemble import GradientBoostingClassifier\n",
        "from sklearn.ensemble import GradientBoostingRegressor\n",
        "from sklearn.impute import SimpleImputer\n",
        "from sklearn.preprocessing import OneHotEncoder\n",
        "from sklearn.metrics import mean_absolute_error"
      ],
      "execution_count": 45,
      "outputs": []
    },
    {
      "cell_type": "code",
      "metadata": {
        "id": "cn69_9X5NffV"
      },
      "source": [
        "import lightgbm as lgbm"
      ],
      "execution_count": null,
      "outputs": []
    },
    {
      "cell_type": "code",
      "metadata": {
        "id": "DlCW1J_D_d6h"
      },
      "source": [
        "with open('sample_data/additional_features.json') as f:\n",
        "    ad_data = json.load(f)"
      ],
      "execution_count": null,
      "outputs": []
    },
    {
      "cell_type": "code",
      "metadata": {
        "id": "Jwb31GD9EKxI"
      },
      "source": [
        "categories = []\r\n",
        "df_index = []\r\n",
        "\r\n",
        "for i in range(len(ad_data)):\r\n",
        "  categories.append(ad_data[i]['categories'])\r\n",
        "  df_index.append(ad_data[i]['index'])"
      ],
      "execution_count": null,
      "outputs": []
    },
    {
      "cell_type": "code",
      "metadata": {
        "id": "wxxSqJwiF0-2"
      },
      "source": [
        "df_cat = pd.DataFrame(columns=['categories'])\r\n",
        "for i in range(df.shape[0]):\r\n",
        "  df_cat.at[i, 'categories'] = []"
      ],
      "execution_count": null,
      "outputs": []
    },
    {
      "cell_type": "code",
      "metadata": {
        "id": "AIWaXlVoDgbN"
      },
      "source": [
        "for i in range(len(df_index)):\r\n",
        "  df_cat.at[df_index[i], 'categories'] = categories[i]"
      ],
      "execution_count": null,
      "outputs": []
    },
    {
      "cell_type": "code",
      "metadata": {
        "id": "Kbz91RJlATIl"
      },
      "source": [
        "df_cat.to_csv('cat.csv', index=False)"
      ],
      "execution_count": null,
      "outputs": []
    },
    {
      "cell_type": "code",
      "metadata": {
        "id": "0Mfw_c8W_d6i"
      },
      "source": [
        "#df = pd.read_json('time_series_train.json', orient='columns')"
      ],
      "execution_count": null,
      "outputs": []
    },
    {
      "cell_type": "markdown",
      "metadata": {
        "id": "__baHGan_d6k"
      },
      "source": [
        "# Data to csv"
      ]
    },
    {
      "cell_type": "code",
      "metadata": {
        "id": "YAHtyFsj_d6l"
      },
      "source": [
        "#a, b = df.shape\n",
        "#data = np.empty((a, b))\n",
        "#data[:] = np.nan"
      ],
      "execution_count": null,
      "outputs": []
    },
    {
      "cell_type": "markdown",
      "metadata": {
        "id": "zUn5O7vE_d6m"
      },
      "source": [
        "for i in range(a):\n",
        "    for j in range(b):\n",
        "        if (df.iloc[i][j] == None):\n",
        "            break\n",
        "        data[i, df.iloc[i][j][0]] = df.iloc[i][j][1]"
      ]
    },
    {
      "cell_type": "code",
      "metadata": {
        "id": "opi913MI_d6n"
      },
      "source": [
        "#pd.DataFrame(data).to_csv('dataml2hw1.csv',  header=None, index=None)"
      ],
      "execution_count": null,
      "outputs": []
    },
    {
      "cell_type": "markdown",
      "metadata": {
        "id": "cMJeXnGd_d6o"
      },
      "source": [
        "# Analysis"
      ]
    },
    {
      "cell_type": "code",
      "metadata": {
        "id": "rAcwOoRd_d6p"
      },
      "source": [
        "df = pd.read_csv('dataml2hw1.csv', header=None)"
      ],
      "execution_count": 5,
      "outputs": []
    },
    {
      "cell_type": "code",
      "metadata": {
        "id": "WEqctqaO0N7D"
      },
      "source": [
        "n = 10"
      ],
      "execution_count": 7,
      "outputs": []
    },
    {
      "cell_type": "code",
      "metadata": {
        "id": "KXHTagVm0Kdv"
      },
      "source": [
        "imputer = SimpleImputer(missing_values=np.nan, strategy='mean')\r\n",
        "X = imputer.fit_transform(df.iloc[:, -n:].T).T"
      ],
      "execution_count": 90,
      "outputs": []
    },
    {
      "cell_type": "code",
      "metadata": {
        "colab": {
          "base_uri": "https://localhost:8080/"
        },
        "id": "_JbkpaZY4Frl",
        "outputId": "78b7bb86-9bff-48e9-bc77-bdbfa43019d7"
      },
      "source": [
        "X[0]"
      ],
      "execution_count": 91,
      "outputs": [
        {
          "output_type": "execute_result",
          "data": {
            "text/plain": [
              "array([60247., 60247., 60247., 60247., 60247., 60247., 60247., 60247.,\n",
              "       24850., 95644.])"
            ]
          },
          "metadata": {
            "tags": []
          },
          "execution_count": 91
        }
      ]
    },
    {
      "cell_type": "code",
      "metadata": {
        "id": "hq0ZMKVe_d6q",
        "colab": {
          "base_uri": "https://localhost:8080/"
        },
        "outputId": "524c4164-186b-4664-85a1-2d1a9846290f"
      },
      "source": [
        "#df.shape[0] - df.iloc[:, 90:].isna().any(axis=1).sum()"
      ],
      "execution_count": 6,
      "outputs": [
        {
          "output_type": "execute_result",
          "data": {
            "text/plain": [
              "25439"
            ]
          },
          "metadata": {
            "tags": []
          },
          "execution_count": 6
        }
      ]
    },
    {
      "cell_type": "code",
      "metadata": {
        "id": "jE4OVcLE_d6u"
      },
      "source": [
        "#train = df[~df.iloc[:, 90:].isna().any(axis=1)].iloc[:, 90:].values"
      ],
      "execution_count": null,
      "outputs": []
    },
    {
      "cell_type": "code",
      "metadata": {
        "id": "XMlhWvGC_d6v"
      },
      "source": [
        "#X_train, X_test = train_test_split(train, test_size=0.2, random_state=42)"
      ],
      "execution_count": null,
      "outputs": []
    },
    {
      "cell_type": "code",
      "metadata": {
        "id": "2J8aLHwC_d6v"
      },
      "source": [
        "x = X[:, :n-1]\n",
        "y = X[:, n-1]\n",
        "#for i in range(1, X_train.shape[1] - n):\n",
        "#    x = np.concatenate((x, X_train[:, i : n+i]), axis=0)\n",
        "#    y = np.concatenate((y, X_train[:, i + n]))\n"
      ],
      "execution_count": 92,
      "outputs": []
    },
    {
      "cell_type": "code",
      "metadata": {
        "id": "ZaGjbnthDJTB"
      },
      "source": [
        "#Model - delta"
      ],
      "execution_count": 75,
      "outputs": []
    },
    {
      "cell_type": "code",
      "metadata": {
        "id": "rqx-UXAGKimB"
      },
      "source": [
        "train_delta = x[:, 1:] - x[:, :-1]"
      ],
      "execution_count": 93,
      "outputs": []
    },
    {
      "cell_type": "code",
      "metadata": {
        "id": "SkEP9etxs6jn"
      },
      "source": [
        "y_delta = y - x[:, -1]"
      ],
      "execution_count": 94,
      "outputs": []
    },
    {
      "cell_type": "code",
      "metadata": {
        "id": "drtmOyRv_d6x"
      },
      "source": [
        "model_c = GradientBoostingClassifier(n_estimators=10, learning_rate=1.0, max_depth=10, random_state=0)"
      ],
      "execution_count": 95,
      "outputs": []
    },
    {
      "cell_type": "code",
      "metadata": {
        "id": "tmu6BC5bAzB5"
      },
      "source": [
        "model_r = GradientBoostingRegressor(n_estimators=10, learning_rate=1.0, max_depth=30, random_state=0)"
      ],
      "execution_count": 106,
      "outputs": []
    },
    {
      "cell_type": "code",
      "metadata": {
        "colab": {
          "base_uri": "https://localhost:8080/"
        },
        "id": "aOhLboUr_d6x",
        "outputId": "21d7d844-c381-43cd-85c7-468ce6d97300"
      },
      "source": [
        "model_c.fit(train_delta[10000:15000], y_delta[10000:15000])"
      ],
      "execution_count": 96,
      "outputs": [
        {
          "output_type": "execute_result",
          "data": {
            "text/plain": [
              "GradientBoostingClassifier(ccp_alpha=0.0, criterion='friedman_mse', init=None,\n",
              "                           learning_rate=1.0, loss='deviance', max_depth=10,\n",
              "                           max_features=None, max_leaf_nodes=None,\n",
              "                           min_impurity_decrease=0.0, min_impurity_split=None,\n",
              "                           min_samples_leaf=1, min_samples_split=2,\n",
              "                           min_weight_fraction_leaf=0.0, n_estimators=10,\n",
              "                           n_iter_no_change=None, presort='deprecated',\n",
              "                           random_state=0, subsample=1.0, tol=0.0001,\n",
              "                           validation_fraction=0.1, verbose=0,\n",
              "                           warm_start=False)"
            ]
          },
          "metadata": {
            "tags": []
          },
          "execution_count": 96
        }
      ]
    },
    {
      "cell_type": "code",
      "metadata": {
        "colab": {
          "base_uri": "https://localhost:8080/"
        },
        "id": "g0UOnJPyA_S3",
        "outputId": "bb70afd2-a41c-4665-dfd3-d3647d58680b"
      },
      "source": [
        "model_r.fit(train_delta[10000:15000], y_delta[10000:15000])"
      ],
      "execution_count": 107,
      "outputs": [
        {
          "output_type": "execute_result",
          "data": {
            "text/plain": [
              "GradientBoostingRegressor(alpha=0.9, ccp_alpha=0.0, criterion='friedman_mse',\n",
              "                          init=None, learning_rate=1.0, loss='ls', max_depth=30,\n",
              "                          max_features=None, max_leaf_nodes=None,\n",
              "                          min_impurity_decrease=0.0, min_impurity_split=None,\n",
              "                          min_samples_leaf=1, min_samples_split=2,\n",
              "                          min_weight_fraction_leaf=0.0, n_estimators=10,\n",
              "                          n_iter_no_change=None, presort='deprecated',\n",
              "                          random_state=0, subsample=1.0, tol=0.0001,\n",
              "                          validation_fraction=0.1, verbose=0, warm_start=False)"
            ]
          },
          "metadata": {
            "tags": []
          },
          "execution_count": 107
        }
      ]
    },
    {
      "cell_type": "code",
      "metadata": {
        "id": "uQOeir8u_d6y",
        "colab": {
          "base_uri": "https://localhost:8080/"
        },
        "outputId": "995dee0a-1faa-4f36-f3ca-8efd12a063ce"
      },
      "source": [
        "print(model_c.score(train_delta, y_delta))\r\n",
        "print(mean_absolute_error(model_c.predict(train_delta), y_delta))"
      ],
      "execution_count": 98,
      "outputs": [
        {
          "output_type": "stream",
          "text": [
            "0.4272270596115204\n",
            "94.08687206965841\n"
          ],
          "name": "stdout"
        }
      ]
    },
    {
      "cell_type": "code",
      "metadata": {
        "colab": {
          "base_uri": "https://localhost:8080/"
        },
        "id": "i7TBIAHkBE0T",
        "outputId": "97161fcd-b27b-4da1-e8cd-78ed133e92d8"
      },
      "source": [
        "print(model_r.score(train_delta, y_delta))\r\n",
        "print(mean_absolute_error(model_r.predict(train_delta), y_delta))"
      ],
      "execution_count": 109,
      "outputs": [
        {
          "output_type": "stream",
          "text": [
            "0.028768498668371615\n",
            "99.17530942672835\n"
          ],
          "name": "stdout"
        }
      ]
    },
    {
      "cell_type": "code",
      "metadata": {
        "id": "3aascsBz65dm"
      },
      "source": [
        "#model delta"
      ],
      "execution_count": 26,
      "outputs": []
    },
    {
      "cell_type": "code",
      "metadata": {
        "id": "HRgfG3CB_d62"
      },
      "source": [
        "pred1 = model_c.predict(X[:, 2:] - X[:, 1:-1])\r\n",
        "pred2 = model_c.predict(np.concatenate((X[:, 3:] - X[:, 2:-1], pred1.reshape(-1, 1)), axis=1))\r\n",
        "pred3 = model_c.predict(np.concatenate((X[:, 4:] - X[:, 3:-1], pred1.reshape(-1, 1), pred2.reshape(-1, 1)), axis=1))"
      ],
      "execution_count": 99,
      "outputs": []
    },
    {
      "cell_type": "code",
      "metadata": {
        "id": "Sf8zeW0YBhZj"
      },
      "source": [
        "pred1 = model_r.predict(X[:, 2:] - X[:, 1:-1])\r\n",
        "pred2 = model_r.predict(np.concatenate((X[:, 3:] - X[:, 2:-1], pred1.reshape(-1, 1)), axis=1))\r\n",
        "pred3 = model_r.predict(np.concatenate((X[:, 4:] - X[:, 3:-1], pred1.reshape(-1, 1), pred2.reshape(-1, 1)), axis=1))"
      ],
      "execution_count": 68,
      "outputs": []
    },
    {
      "cell_type": "code",
      "metadata": {
        "colab": {
          "base_uri": "https://localhost:8080/"
        },
        "id": "Aegw9BId9kwp",
        "outputId": "6dcdb95d-75f0-4ca6-aae6-d4671f409cea"
      },
      "source": [
        "pred = np.vstack((X[:, -1] + pred1, X[:, -1] + pred1 + pred2, X[:, -1] + pred1 + pred2 + pred3))\r\n",
        "pred = np.ravel(pred.T)\r\n",
        "pred"
      ],
      "execution_count": 101,
      "outputs": [
        {
          "output_type": "execute_result",
          "data": {
            "text/plain": [
              "array([9.56450e+04, 9.56440e+04, 1.02118e+05, ..., 1.00000e+00,\n",
              "       0.00000e+00, 0.00000e+00])"
            ]
          },
          "metadata": {
            "tags": []
          },
          "execution_count": 101
        }
      ]
    },
    {
      "cell_type": "code",
      "metadata": {
        "id": "C8up24AfDp7b"
      },
      "source": [
        "# model - mean"
      ],
      "execution_count": 76,
      "outputs": []
    },
    {
      "cell_type": "code",
      "metadata": {
        "id": "UDh4bt07Ds0f"
      },
      "source": [
        "train_mean = X - X.mean(axis=1, keepdims=True)"
      ],
      "execution_count": 121,
      "outputs": []
    },
    {
      "cell_type": "code",
      "metadata": {
        "colab": {
          "base_uri": "https://localhost:8080/"
        },
        "id": "Ap4Rj-nENFEf",
        "outputId": "3dc74a31-ad1b-4b25-c25b-bcfe3bdbde03"
      },
      "source": [
        "train_mean.shape"
      ],
      "execution_count": 147,
      "outputs": [
        {
          "output_type": "execute_result",
          "data": {
            "text/plain": [
              "(29860, 10)"
            ]
          },
          "metadata": {
            "tags": []
          },
          "execution_count": 147
        }
      ]
    },
    {
      "cell_type": "code",
      "metadata": {
        "id": "JY7_psL8Kgan"
      },
      "source": [
        "x_mean = train_mean[:, :-1]\r\n",
        "y_mean = train_mean[:, -1]"
      ],
      "execution_count": 140,
      "outputs": []
    },
    {
      "cell_type": "code",
      "metadata": {
        "id": "HMu18lSuKoSG"
      },
      "source": [
        "model_cm = GradientBoostingRegressor(n_estimators=10, learning_rate=1.0, max_depth=10, random_state=0)"
      ],
      "execution_count": 143,
      "outputs": []
    },
    {
      "cell_type": "code",
      "metadata": {
        "colab": {
          "base_uri": "https://localhost:8080/"
        },
        "id": "vQs8EUa9K0Cl",
        "outputId": "b1b2717b-f5a0-4d39-fb51-9962209126fb"
      },
      "source": [
        "model_cm.fit(x_mean[10000:15000], y_mean[10000:15000])"
      ],
      "execution_count": 144,
      "outputs": [
        {
          "output_type": "execute_result",
          "data": {
            "text/plain": [
              "GradientBoostingRegressor(alpha=0.9, ccp_alpha=0.0, criterion='friedman_mse',\n",
              "                          init=None, learning_rate=1.0, loss='ls', max_depth=10,\n",
              "                          max_features=None, max_leaf_nodes=None,\n",
              "                          min_impurity_decrease=0.0, min_impurity_split=None,\n",
              "                          min_samples_leaf=1, min_samples_split=2,\n",
              "                          min_weight_fraction_leaf=0.0, n_estimators=10,\n",
              "                          n_iter_no_change=None, presort='deprecated',\n",
              "                          random_state=0, subsample=1.0, tol=0.0001,\n",
              "                          validation_fraction=0.1, verbose=0, warm_start=False)"
            ]
          },
          "metadata": {
            "tags": []
          },
          "execution_count": 144
        }
      ]
    },
    {
      "cell_type": "code",
      "metadata": {
        "colab": {
          "base_uri": "https://localhost:8080/"
        },
        "id": "4txvhB3-K0H7",
        "outputId": "3b98b478-9533-4e31-e409-e6753b903b08"
      },
      "source": [
        "print(model_cm.score(x_mean, y_mean))\r\n",
        "print(mean_absolute_error(model_cm.predict(x_mean), y_mean))"
      ],
      "execution_count": 145,
      "outputs": [
        {
          "output_type": "stream",
          "text": [
            "-0.3463492868958511\n",
            "102.6077518548944\n"
          ],
          "name": "stdout"
        }
      ]
    },
    {
      "cell_type": "code",
      "metadata": {
        "id": "7zbVA8gsK0NP"
      },
      "source": [
        "pred1 = model_cm.predict(train_mean[:, 1:])\r\n",
        "pred2 = model_cm.predict(np.concatenate((train_mean[:, 2:], pred1.reshape(-1, 1)), axis=1))\r\n",
        "pred3 = model_cm.predict(np.concatenate((train_mean[:, 3:], pred1.reshape(-1, 1), pred2.reshape(-1, 1)), axis=1))"
      ],
      "execution_count": 148,
      "outputs": []
    },
    {
      "cell_type": "code",
      "metadata": {
        "colab": {
          "base_uri": "https://localhost:8080/"
        },
        "id": "zwBUhTBXK0SJ",
        "outputId": "43fa779f-77b6-4f4e-e1e1-255ca9ede607"
      },
      "source": [
        "pred = np.vstack((X.mean(axis=1) + pred1, X.mean(axis=1) + pred1 + pred2, X.mean(axis=1) + pred1 + pred2 + pred3))\r\n",
        "pred = np.ravel(pred.T)\r\n",
        "pred"
      ],
      "execution_count": 152,
      "outputs": [
        {
          "output_type": "execute_result",
          "data": {
            "text/plain": [
              "array([5.68358018e+04, 5.80105743e+04, 5.53322654e+04, ...,\n",
              "       9.97170077e-01, 1.20330653e+00, 1.05879757e+00])"
            ]
          },
          "metadata": {
            "tags": []
          },
          "execution_count": 152
        }
      ]
    },
    {
      "cell_type": "code",
      "metadata": {
        "id": "7SJc_5tnOrqs"
      },
      "source": [
        ""
      ],
      "execution_count": 152,
      "outputs": []
    },
    {
      "cell_type": "markdown",
      "metadata": {
        "id": "sx3FrpUtOshF"
      },
      "source": [
        "To file"
      ]
    },
    {
      "cell_type": "code",
      "metadata": {
        "id": "NKmPnMNl_d64"
      },
      "source": [
        "Id = []\n",
        "for i in range(df.shape[0]):\n",
        "    Id.append(str(i)+str('_')+str(0))\n",
        "    Id.append(str(i)+str('_')+str(1))\n",
        "    Id.append(str(i)+str('_')+str(2))"
      ],
      "execution_count": 153,
      "outputs": []
    },
    {
      "cell_type": "code",
      "metadata": {
        "id": "aDQ2peyf_d65"
      },
      "source": [
        "index = pd.DataFrame(Id, columns=['Id'])"
      ],
      "execution_count": 35,
      "outputs": []
    },
    {
      "cell_type": "code",
      "metadata": {
        "id": "skKVHKWg_d66",
        "scrolled": true
      },
      "source": [
        "index['Predicted'] = np.abs(pred.astype(int))"
      ],
      "execution_count": 154,
      "outputs": []
    },
    {
      "cell_type": "code",
      "metadata": {
        "id": "Pdyt2_zx_d67",
        "colab": {
          "base_uri": "https://localhost:8080/",
          "height": 419
        },
        "outputId": "eea9431d-1a70-499f-f313-de763c4fce25"
      },
      "source": [
        "index"
      ],
      "execution_count": 155,
      "outputs": [
        {
          "output_type": "execute_result",
          "data": {
            "text/html": [
              "<div>\n",
              "<style scoped>\n",
              "    .dataframe tbody tr th:only-of-type {\n",
              "        vertical-align: middle;\n",
              "    }\n",
              "\n",
              "    .dataframe tbody tr th {\n",
              "        vertical-align: top;\n",
              "    }\n",
              "\n",
              "    .dataframe thead th {\n",
              "        text-align: right;\n",
              "    }\n",
              "</style>\n",
              "<table border=\"1\" class=\"dataframe\">\n",
              "  <thead>\n",
              "    <tr style=\"text-align: right;\">\n",
              "      <th></th>\n",
              "      <th>Id</th>\n",
              "      <th>Predicted</th>\n",
              "    </tr>\n",
              "  </thead>\n",
              "  <tbody>\n",
              "    <tr>\n",
              "      <th>0</th>\n",
              "      <td>0_0</td>\n",
              "      <td>56835</td>\n",
              "    </tr>\n",
              "    <tr>\n",
              "      <th>1</th>\n",
              "      <td>0_1</td>\n",
              "      <td>58010</td>\n",
              "    </tr>\n",
              "    <tr>\n",
              "      <th>2</th>\n",
              "      <td>0_2</td>\n",
              "      <td>55332</td>\n",
              "    </tr>\n",
              "    <tr>\n",
              "      <th>3</th>\n",
              "      <td>1_0</td>\n",
              "      <td>1</td>\n",
              "    </tr>\n",
              "    <tr>\n",
              "      <th>4</th>\n",
              "      <td>1_1</td>\n",
              "      <td>2</td>\n",
              "    </tr>\n",
              "    <tr>\n",
              "      <th>...</th>\n",
              "      <td>...</td>\n",
              "      <td>...</td>\n",
              "    </tr>\n",
              "    <tr>\n",
              "      <th>89575</th>\n",
              "      <td>29858_1</td>\n",
              "      <td>3</td>\n",
              "    </tr>\n",
              "    <tr>\n",
              "      <th>89576</th>\n",
              "      <td>29858_2</td>\n",
              "      <td>6</td>\n",
              "    </tr>\n",
              "    <tr>\n",
              "      <th>89577</th>\n",
              "      <td>29859_0</td>\n",
              "      <td>0</td>\n",
              "    </tr>\n",
              "    <tr>\n",
              "      <th>89578</th>\n",
              "      <td>29859_1</td>\n",
              "      <td>1</td>\n",
              "    </tr>\n",
              "    <tr>\n",
              "      <th>89579</th>\n",
              "      <td>29859_2</td>\n",
              "      <td>1</td>\n",
              "    </tr>\n",
              "  </tbody>\n",
              "</table>\n",
              "<p>89580 rows × 2 columns</p>\n",
              "</div>"
            ],
            "text/plain": [
              "            Id  Predicted\n",
              "0          0_0      56835\n",
              "1          0_1      58010\n",
              "2          0_2      55332\n",
              "3          1_0          1\n",
              "4          1_1          2\n",
              "...        ...        ...\n",
              "89575  29858_1          3\n",
              "89576  29858_2          6\n",
              "89577  29859_0          0\n",
              "89578  29859_1          1\n",
              "89579  29859_2          1\n",
              "\n",
              "[89580 rows x 2 columns]"
            ]
          },
          "metadata": {
            "tags": []
          },
          "execution_count": 155
        }
      ]
    },
    {
      "cell_type": "code",
      "metadata": {
        "id": "McQJ0KmT_d68"
      },
      "source": [
        "index.to_csv('pred.csv', index=False)"
      ],
      "execution_count": 157,
      "outputs": []
    },
    {
      "cell_type": "code",
      "metadata": {
        "id": "_KSxcW9g_d69"
      },
      "source": [
        ""
      ],
      "execution_count": null,
      "outputs": []
    }
  ]
}