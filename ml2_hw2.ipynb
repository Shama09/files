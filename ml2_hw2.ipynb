{
 "cells": [
  {
   "cell_type": "code",
   "execution_count": 1,
   "id": "3be1e1b6",
   "metadata": {},
   "outputs": [],
   "source": [
    "import pandas as pd\n",
    "import numpy as np\n",
    "import matplotlib.pyplot as plt\n",
    "\n",
    "%matplotlib inline"
   ]
  },
  {
   "cell_type": "code",
   "execution_count": 2,
   "id": "1e482a6f",
   "metadata": {},
   "outputs": [],
   "source": [
    "from sklearn.metrics import roc_auc_score as roc\n",
    "from sklearn.model_selection import train_test_split"
   ]
  },
  {
   "cell_type": "code",
   "execution_count": 146,
   "id": "bdbe61fd",
   "metadata": {},
   "outputs": [],
   "source": [
    "from sklearn.linear_model import LogisticRegression\n",
    "from sklearn.tree import DecisionTreeClassifier"
   ]
  },
  {
   "cell_type": "code",
   "execution_count": 3,
   "id": "d856103a",
   "metadata": {},
   "outputs": [],
   "source": [
    "from lightgbm import LGBMClassifier\n",
    "import xgboost as xgb\n",
    "from catboost import CatBoostClassifier"
   ]
  },
  {
   "cell_type": "code",
   "execution_count": 19,
   "id": "7d45e302",
   "metadata": {},
   "outputs": [],
   "source": [
    "from sklearn.model_selection import GridSearchCV"
   ]
  },
  {
   "cell_type": "code",
   "execution_count": null,
   "id": "1e6845a0",
   "metadata": {},
   "outputs": [],
   "source": []
  },
  {
   "cell_type": "code",
   "execution_count": null,
   "id": "872900f4",
   "metadata": {},
   "outputs": [],
   "source": []
  },
  {
   "cell_type": "code",
   "execution_count": null,
   "id": "e6d325a1",
   "metadata": {},
   "outputs": [],
   "source": []
  },
  {
   "cell_type": "code",
   "execution_count": null,
   "id": "1f292503",
   "metadata": {},
   "outputs": [],
   "source": []
  },
  {
   "cell_type": "code",
   "execution_count": null,
   "id": "5cf99d79",
   "metadata": {},
   "outputs": [],
   "source": []
  },
  {
   "cell_type": "code",
   "execution_count": 4,
   "id": "fb8f04f1",
   "metadata": {},
   "outputs": [],
   "source": [
    "train_data = pd.read_csv('1_data/train_data.csv')"
   ]
  },
  {
   "cell_type": "code",
   "execution_count": 5,
   "id": "c8b208d9",
   "metadata": {},
   "outputs": [
    {
     "data": {
      "text/html": [
       "<div>\n",
       "<style scoped>\n",
       "    .dataframe tbody tr th:only-of-type {\n",
       "        vertical-align: middle;\n",
       "    }\n",
       "\n",
       "    .dataframe tbody tr th {\n",
       "        vertical-align: top;\n",
       "    }\n",
       "\n",
       "    .dataframe thead th {\n",
       "        text-align: right;\n",
       "    }\n",
       "</style>\n",
       "<table border=\"1\" class=\"dataframe\">\n",
       "  <thead>\n",
       "    <tr style=\"text-align: right;\">\n",
       "      <th></th>\n",
       "      <th>dist</th>\n",
       "      <th>due</th>\n",
       "      <th>f_class</th>\n",
       "      <th>lat</th>\n",
       "      <th>lon</th>\n",
       "      <th>s_class</th>\n",
       "      <th>t_class</th>\n",
       "    </tr>\n",
       "  </thead>\n",
       "  <tbody>\n",
       "    <tr>\n",
       "      <th>0</th>\n",
       "      <td>5117.239228</td>\n",
       "      <td>2014-01-22 04:10:00.000</td>\n",
       "      <td>econom</td>\n",
       "      <td>55.669290</td>\n",
       "      <td>37.474336</td>\n",
       "      <td>business</td>\n",
       "      <td>NaN</td>\n",
       "    </tr>\n",
       "    <tr>\n",
       "      <th>1</th>\n",
       "      <td>3638.726690</td>\n",
       "      <td>2014-01-10 13:45:00.000</td>\n",
       "      <td>econom</td>\n",
       "      <td>55.807461</td>\n",
       "      <td>37.635045</td>\n",
       "      <td>business</td>\n",
       "      <td>NaN</td>\n",
       "    </tr>\n",
       "    <tr>\n",
       "      <th>2</th>\n",
       "      <td>15143.069693</td>\n",
       "      <td>2014-03-02 02:10:00.000</td>\n",
       "      <td>econom</td>\n",
       "      <td>55.741105</td>\n",
       "      <td>37.615821</td>\n",
       "      <td>NaN</td>\n",
       "      <td>NaN</td>\n",
       "    </tr>\n",
       "    <tr>\n",
       "      <th>3</th>\n",
       "      <td>-1.000000</td>\n",
       "      <td>2014-02-26 13:20:00.000</td>\n",
       "      <td>econom</td>\n",
       "      <td>55.625526</td>\n",
       "      <td>37.618543</td>\n",
       "      <td>NaN</td>\n",
       "      <td>NaN</td>\n",
       "    </tr>\n",
       "    <tr>\n",
       "      <th>4</th>\n",
       "      <td>4708.142572</td>\n",
       "      <td>2014-01-21 19:45:00.000</td>\n",
       "      <td>business</td>\n",
       "      <td>55.813167</td>\n",
       "      <td>37.597863</td>\n",
       "      <td>NaN</td>\n",
       "      <td>NaN</td>\n",
       "    </tr>\n",
       "    <tr>\n",
       "      <th>...</th>\n",
       "      <td>...</td>\n",
       "      <td>...</td>\n",
       "      <td>...</td>\n",
       "      <td>...</td>\n",
       "      <td>...</td>\n",
       "      <td>...</td>\n",
       "      <td>...</td>\n",
       "    </tr>\n",
       "    <tr>\n",
       "      <th>1187456</th>\n",
       "      <td>4247.373916</td>\n",
       "      <td>2014-01-05 14:38:04.000</td>\n",
       "      <td>econom</td>\n",
       "      <td>55.722066</td>\n",
       "      <td>37.565677</td>\n",
       "      <td>NaN</td>\n",
       "      <td>NaN</td>\n",
       "    </tr>\n",
       "    <tr>\n",
       "      <th>1187457</th>\n",
       "      <td>11026.015482</td>\n",
       "      <td>2014-01-28 16:40:00.000</td>\n",
       "      <td>econom</td>\n",
       "      <td>59.850992</td>\n",
       "      <td>30.406337</td>\n",
       "      <td>NaN</td>\n",
       "      <td>NaN</td>\n",
       "    </tr>\n",
       "    <tr>\n",
       "      <th>1187458</th>\n",
       "      <td>7392.419570</td>\n",
       "      <td>2014-01-24 17:15:00.000</td>\n",
       "      <td>econom</td>\n",
       "      <td>55.675961</td>\n",
       "      <td>37.571255</td>\n",
       "      <td>NaN</td>\n",
       "      <td>NaN</td>\n",
       "    </tr>\n",
       "    <tr>\n",
       "      <th>1187459</th>\n",
       "      <td>22217.927056</td>\n",
       "      <td>2014-02-28 14:00:00.000</td>\n",
       "      <td>econom</td>\n",
       "      <td>55.769783</td>\n",
       "      <td>37.629565</td>\n",
       "      <td>NaN</td>\n",
       "      <td>NaN</td>\n",
       "    </tr>\n",
       "    <tr>\n",
       "      <th>1187460</th>\n",
       "      <td>-1.000000</td>\n",
       "      <td>2014-02-28 17:55:00.000</td>\n",
       "      <td>econom</td>\n",
       "      <td>55.735677</td>\n",
       "      <td>37.632062</td>\n",
       "      <td>business</td>\n",
       "      <td>NaN</td>\n",
       "    </tr>\n",
       "  </tbody>\n",
       "</table>\n",
       "<p>1187461 rows × 7 columns</p>\n",
       "</div>"
      ],
      "text/plain": [
       "                 dist                      due   f_class        lat  \\\n",
       "0         5117.239228  2014-01-22 04:10:00.000    econom  55.669290   \n",
       "1         3638.726690  2014-01-10 13:45:00.000    econom  55.807461   \n",
       "2        15143.069693  2014-03-02 02:10:00.000    econom  55.741105   \n",
       "3           -1.000000  2014-02-26 13:20:00.000    econom  55.625526   \n",
       "4         4708.142572  2014-01-21 19:45:00.000  business  55.813167   \n",
       "...               ...                      ...       ...        ...   \n",
       "1187456   4247.373916  2014-01-05 14:38:04.000    econom  55.722066   \n",
       "1187457  11026.015482  2014-01-28 16:40:00.000    econom  59.850992   \n",
       "1187458   7392.419570  2014-01-24 17:15:00.000    econom  55.675961   \n",
       "1187459  22217.927056  2014-02-28 14:00:00.000    econom  55.769783   \n",
       "1187460     -1.000000  2014-02-28 17:55:00.000    econom  55.735677   \n",
       "\n",
       "               lon   s_class t_class  \n",
       "0        37.474336  business     NaN  \n",
       "1        37.635045  business     NaN  \n",
       "2        37.615821       NaN     NaN  \n",
       "3        37.618543       NaN     NaN  \n",
       "4        37.597863       NaN     NaN  \n",
       "...            ...       ...     ...  \n",
       "1187456  37.565677       NaN     NaN  \n",
       "1187457  30.406337       NaN     NaN  \n",
       "1187458  37.571255       NaN     NaN  \n",
       "1187459  37.629565       NaN     NaN  \n",
       "1187460  37.632062  business     NaN  \n",
       "\n",
       "[1187461 rows x 7 columns]"
      ]
     },
     "execution_count": 5,
     "metadata": {},
     "output_type": "execute_result"
    }
   ],
   "source": [
    "train_data"
   ]
  },
  {
   "cell_type": "code",
   "execution_count": 6,
   "id": "e88f1cba",
   "metadata": {},
   "outputs": [],
   "source": [
    "train_y= pd.read_csv('1_data/train_target.csv')"
   ]
  },
  {
   "cell_type": "code",
   "execution_count": 7,
   "id": "10576142",
   "metadata": {},
   "outputs": [],
   "source": [
    "sub = pd.read_csv('1_data/sample_submission.csv')"
   ]
  },
  {
   "cell_type": "code",
   "execution_count": 8,
   "id": "4998064d",
   "metadata": {},
   "outputs": [],
   "source": [
    "test_data = pd.read_csv('1_data/test_data.csv')"
   ]
  },
  {
   "cell_type": "code",
   "execution_count": null,
   "id": "3946133c",
   "metadata": {},
   "outputs": [],
   "source": []
  },
  {
   "cell_type": "code",
   "execution_count": 9,
   "id": "78a2377d",
   "metadata": {},
   "outputs": [
    {
     "data": {
      "text/plain": [
       "array([nan, 'vip', 'econom', 'business'], dtype=object)"
      ]
     },
     "execution_count": 9,
     "metadata": {},
     "output_type": "execute_result"
    }
   ],
   "source": [
    "train_data['t_class'].unique()"
   ]
  },
  {
   "cell_type": "code",
   "execution_count": 25,
   "id": "bb99850d",
   "metadata": {},
   "outputs": [
    {
     "data": {
      "text/plain": [
       "(array([5.063000e+03, 1.000000e+00, 4.000000e+00, 0.000000e+00,\n",
       "        1.095975e+06, 5.346900e+04, 1.000000e+00, 0.000000e+00,\n",
       "        0.000000e+00, 3.293900e+04]),\n",
       " array([51.548603  , 52.4146491 , 53.2806952 , 54.1467413 , 55.01278741,\n",
       "        55.87883351, 56.74487961, 57.61092571, 58.47697181, 59.34301791,\n",
       "        60.20906401]),\n",
       " <BarContainer object of 10 artists>)"
      ]
     },
     "execution_count": 25,
     "metadata": {},
     "output_type": "execute_result"
    },
    {
     "data": {
      "image/png": "[encoded data removed]",
      "text/plain": [
       "<Figure size 432x288 with 1 Axes>"
      ]
     },
     "metadata": {
      "needs_background": "light"
     },
     "output_type": "display_data"
    }
   ],
   "source": [
    "plt.hist(train_data[train_data['lat']>50]['lat'])"
   ]
  },
  {
   "cell_type": "code",
   "execution_count": 11,
   "id": "3e496125",
   "metadata": {},
   "outputs": [
    {
     "data": {
      "text/plain": [
       "<matplotlib.collections.PathCollection at 0x7f834921f490>"
      ]
     },
     "execution_count": 11,
     "metadata": {},
     "output_type": "execute_result"
    },
    {
     "data": {
      "image/png": "[encoded data removed]",
      "text/plain": [
       "<Figure size 432x288 with 1 Axes>"
      ]
     },
     "metadata": {
      "needs_background": "light"
     },
     "output_type": "display_data"
    }
   ],
   "source": [
    "plt.scatter(train_data['lat'], train_data['lon'])"
   ]
  },
  {
   "cell_type": "code",
   "execution_count": 30,
   "id": "f1a606cb",
   "metadata": {},
   "outputs": [
    {
     "data": {
      "text/plain": [
       "(array([9.000000e+00, 3.293200e+04, 0.000000e+00, 0.000000e+00,\n",
       "        1.146093e+06, 5.065000e+03, 1.000000e+00, 1.948000e+03,\n",
       "        0.000000e+00, 1.402000e+03]),\n",
       " array([27.558903  , 29.73349438, 31.90808577, 34.08267715, 36.25726853,\n",
       "        38.43185991, 40.6064513 , 42.78104268, 44.95563406, 47.13022545,\n",
       "        49.30481683]),\n",
       " <BarContainer object of 10 artists>)"
      ]
     },
     "execution_count": 30,
     "metadata": {},
     "output_type": "execute_result"
    },
    {
     "data": {
      "image/png": "[encoded data removed]",
      "text/plain": [
       "<Figure size 432x288 with 1 Axes>"
      ]
     },
     "metadata": {
      "needs_background": "light"
     },
     "output_type": "display_data"
    }
   ],
   "source": [
    "plt.hist(train_data[(25<train_data['lon'])&(train_data['lon']<50)]['lon'])"
   ]
  },
  {
   "cell_type": "code",
   "execution_count": 319,
   "id": "7b682b45",
   "metadata": {},
   "outputs": [
    {
     "data": {
      "text/plain": [
       "(array([240485., 193687., 188552., 164922., 131811.,  90502.,  55956.,\n",
       "         35676.,  24217.,  16090.]),\n",
       " array([-1.00000000e+00,  2.99909659e+03,  5.99919318e+03,  8.99928977e+03,\n",
       "         1.19993864e+04,  1.49994829e+04,  1.79995795e+04,  2.09996761e+04,\n",
       "         2.39997727e+04,  2.69998693e+04,  2.99999659e+04]),\n",
       " <BarContainer object of 10 artists>)"
      ]
     },
     "execution_count": 319,
     "metadata": {},
     "output_type": "execute_result"
    },
    {
     "data": {
      "image/png": "[encoded data removed]",
      "text/plain": [
       "<Figure size 432x288 with 1 Axes>"
      ]
     },
     "metadata": {
      "needs_background": "light"
     },
     "output_type": "display_data"
    }
   ],
   "source": [
    "plt.hist(train_data[train_data['dist']<30000]['dist'])"
   ]
  },
  {
   "cell_type": "code",
   "execution_count": 345,
   "id": "6d9d2234",
   "metadata": {},
   "outputs": [
    {
     "data": {
      "text/plain": [
       "0           True\n",
       "1           True\n",
       "2           True\n",
       "3           True\n",
       "4          False\n",
       "           ...  \n",
       "1187456     True\n",
       "1187457     True\n",
       "1187458     True\n",
       "1187459     True\n",
       "1187460     True\n",
       "Name: f1, Length: 1187461, dtype: bool"
      ]
     },
     "execution_count": 345,
     "metadata": {},
     "output_type": "execute_result"
    }
   ],
   "source": [
    "train_data['f1']"
   ]
  },
  {
   "cell_type": "code",
   "execution_count": 326,
   "id": "24912404",
   "metadata": {},
   "outputs": [
    {
     "data": {
      "text/plain": [
       "<matplotlib.collections.PathCollection at 0x7f29562792e0>"
      ]
     },
     "execution_count": 326,
     "metadata": {},
     "output_type": "execute_result"
    },
    {
     "data": {
      "image/png": "[encoded data removed]",
      "text/plain": [
       "<Figure size 432x288 with 1 Axes>"
      ]
     },
     "metadata": {
      "needs_background": "light"
     },
     "output_type": "display_data"
    }
   ],
   "source": [
    "plt.scatter(train_data['f1'], train_y)"
   ]
  },
  {
   "cell_type": "code",
   "execution_count": null,
   "id": "786fc16d",
   "metadata": {},
   "outputs": [],
   "source": []
  },
  {
   "cell_type": "code",
   "execution_count": 12,
   "id": "0e71f810",
   "metadata": {},
   "outputs": [],
   "source": [
    "def dtrans(train_data):\n",
    "    train_data['month'] = pd.to_datetime(train_data.due).dt.month\n",
    "    train_data['day'] = pd.to_datetime(train_data.due).dt.day\n",
    "    train_data['hour'] = pd.to_datetime(train_data.due).dt.hour\n",
    "    train_data['minute'] = pd.to_datetime(train_data.due).dt.minute\n",
    "    train_data['f1'] = (train_data['f_class']=='econom')+0\n",
    "    train_data['f2'] = (train_data['f_class']=='business')+0\n",
    "    train_data['f3'] = (train_data['f_class']=='vip')+0\n",
    "    train_data['s1'] = (train_data['s_class']=='econom')+0\n",
    "    train_data['s2'] = (train_data['s_class']=='business')+0\n",
    "    train_data['s3'] = (train_data['s_class']=='vip')+0\n",
    "    train_data['t1'] = (train_data['t_class']=='econom')+0\n",
    "    train_data['t2'] = (train_data['t_class']=='business')+0\n",
    "    train_data['t3'] = (train_data['t_class']=='vip')+0\n",
    "    return train_data"
   ]
  },
  {
   "cell_type": "code",
   "execution_count": 13,
   "id": "309fa716",
   "metadata": {},
   "outputs": [],
   "source": [
    "train = dtrans(train_data)"
   ]
  },
  {
   "cell_type": "code",
   "execution_count": 104,
   "id": "141c89b8",
   "metadata": {},
   "outputs": [
    {
     "data": {
      "text/plain": [
       "target    0\n",
       "dtype: int64"
      ]
     },
     "execution_count": 104,
     "metadata": {},
     "output_type": "execute_result"
    }
   ],
   "source": []
  },
  {
   "cell_type": "code",
   "execution_count": 156,
   "id": "d9d97e9b",
   "metadata": {},
   "outputs": [],
   "source": [
    "train['min'] = model3.predict_proba(train[features2])[:, 1]"
   ]
  },
  {
   "cell_type": "code",
   "execution_count": 14,
   "id": "3fa04cfc",
   "metadata": {},
   "outputs": [],
   "source": [
    "test = dtrans(test_data)"
   ]
  },
  {
   "cell_type": "code",
   "execution_count": 139,
   "id": "531993a1",
   "metadata": {},
   "outputs": [
    {
     "data": {
      "text/html": [
       "<div>\n",
       "<style scoped>\n",
       "    .dataframe tbody tr th:only-of-type {\n",
       "        vertical-align: middle;\n",
       "    }\n",
       "\n",
       "    .dataframe tbody tr th {\n",
       "        vertical-align: top;\n",
       "    }\n",
       "\n",
       "    .dataframe thead th {\n",
       "        text-align: right;\n",
       "    }\n",
       "</style>\n",
       "<table border=\"1\" class=\"dataframe\">\n",
       "  <thead>\n",
       "    <tr style=\"text-align: right;\">\n",
       "      <th></th>\n",
       "      <th>dist</th>\n",
       "      <th>due</th>\n",
       "      <th>f_class</th>\n",
       "      <th>lat</th>\n",
       "      <th>lon</th>\n",
       "      <th>s_class</th>\n",
       "      <th>t_class</th>\n",
       "      <th>month</th>\n",
       "      <th>day</th>\n",
       "      <th>hour</th>\n",
       "      <th>...</th>\n",
       "      <th>f2</th>\n",
       "      <th>f3</th>\n",
       "      <th>s1</th>\n",
       "      <th>s2</th>\n",
       "      <th>s3</th>\n",
       "      <th>t1</th>\n",
       "      <th>t2</th>\n",
       "      <th>t3</th>\n",
       "      <th>y</th>\n",
       "      <th>min</th>\n",
       "    </tr>\n",
       "  </thead>\n",
       "  <tbody>\n",
       "    <tr>\n",
       "      <th>2</th>\n",
       "      <td>15143.069693</td>\n",
       "      <td>2014-03-02 02:10:00.000</td>\n",
       "      <td>econom</td>\n",
       "      <td>55.741105</td>\n",
       "      <td>37.615821</td>\n",
       "      <td>NaN</td>\n",
       "      <td>NaN</td>\n",
       "      <td>3</td>\n",
       "      <td>2</td>\n",
       "      <td>2</td>\n",
       "      <td>...</td>\n",
       "      <td>0</td>\n",
       "      <td>0</td>\n",
       "      <td>0</td>\n",
       "      <td>0</td>\n",
       "      <td>0</td>\n",
       "      <td>0</td>\n",
       "      <td>0</td>\n",
       "      <td>0</td>\n",
       "      <td>1</td>\n",
       "      <td>1</td>\n",
       "    </tr>\n",
       "    <tr>\n",
       "      <th>3</th>\n",
       "      <td>-1.000000</td>\n",
       "      <td>2014-02-26 13:20:00.000</td>\n",
       "      <td>econom</td>\n",
       "      <td>55.625526</td>\n",
       "      <td>37.618543</td>\n",
       "      <td>NaN</td>\n",
       "      <td>NaN</td>\n",
       "      <td>2</td>\n",
       "      <td>26</td>\n",
       "      <td>13</td>\n",
       "      <td>...</td>\n",
       "      <td>0</td>\n",
       "      <td>0</td>\n",
       "      <td>0</td>\n",
       "      <td>0</td>\n",
       "      <td>0</td>\n",
       "      <td>0</td>\n",
       "      <td>0</td>\n",
       "      <td>0</td>\n",
       "      <td>1</td>\n",
       "      <td>0</td>\n",
       "    </tr>\n",
       "    <tr>\n",
       "      <th>5</th>\n",
       "      <td>9378.037951</td>\n",
       "      <td>2014-01-10 23:20:00.000</td>\n",
       "      <td>econom</td>\n",
       "      <td>55.759841</td>\n",
       "      <td>37.622693</td>\n",
       "      <td>business</td>\n",
       "      <td>NaN</td>\n",
       "      <td>1</td>\n",
       "      <td>10</td>\n",
       "      <td>23</td>\n",
       "      <td>...</td>\n",
       "      <td>0</td>\n",
       "      <td>0</td>\n",
       "      <td>0</td>\n",
       "      <td>1</td>\n",
       "      <td>0</td>\n",
       "      <td>0</td>\n",
       "      <td>0</td>\n",
       "      <td>0</td>\n",
       "      <td>1</td>\n",
       "      <td>1</td>\n",
       "    </tr>\n",
       "    <tr>\n",
       "      <th>20</th>\n",
       "      <td>13371.221416</td>\n",
       "      <td>2014-01-01 01:55:00.000</td>\n",
       "      <td>econom</td>\n",
       "      <td>60.035567</td>\n",
       "      <td>30.394183</td>\n",
       "      <td>NaN</td>\n",
       "      <td>NaN</td>\n",
       "      <td>1</td>\n",
       "      <td>1</td>\n",
       "      <td>1</td>\n",
       "      <td>...</td>\n",
       "      <td>0</td>\n",
       "      <td>0</td>\n",
       "      <td>0</td>\n",
       "      <td>0</td>\n",
       "      <td>0</td>\n",
       "      <td>0</td>\n",
       "      <td>0</td>\n",
       "      <td>0</td>\n",
       "      <td>1</td>\n",
       "      <td>1</td>\n",
       "    </tr>\n",
       "    <tr>\n",
       "      <th>24</th>\n",
       "      <td>6172.936928</td>\n",
       "      <td>2014-02-11 10:35:00.000</td>\n",
       "      <td>econom</td>\n",
       "      <td>59.973478</td>\n",
       "      <td>30.350166</td>\n",
       "      <td>NaN</td>\n",
       "      <td>NaN</td>\n",
       "      <td>2</td>\n",
       "      <td>11</td>\n",
       "      <td>10</td>\n",
       "      <td>...</td>\n",
       "      <td>0</td>\n",
       "      <td>0</td>\n",
       "      <td>0</td>\n",
       "      <td>0</td>\n",
       "      <td>0</td>\n",
       "      <td>0</td>\n",
       "      <td>0</td>\n",
       "      <td>0</td>\n",
       "      <td>1</td>\n",
       "      <td>1</td>\n",
       "    </tr>\n",
       "    <tr>\n",
       "      <th>...</th>\n",
       "      <td>...</td>\n",
       "      <td>...</td>\n",
       "      <td>...</td>\n",
       "      <td>...</td>\n",
       "      <td>...</td>\n",
       "      <td>...</td>\n",
       "      <td>...</td>\n",
       "      <td>...</td>\n",
       "      <td>...</td>\n",
       "      <td>...</td>\n",
       "      <td>...</td>\n",
       "      <td>...</td>\n",
       "      <td>...</td>\n",
       "      <td>...</td>\n",
       "      <td>...</td>\n",
       "      <td>...</td>\n",
       "      <td>...</td>\n",
       "      <td>...</td>\n",
       "      <td>...</td>\n",
       "      <td>...</td>\n",
       "      <td>...</td>\n",
       "    </tr>\n",
       "    <tr>\n",
       "      <th>1187439</th>\n",
       "      <td>30451.747232</td>\n",
       "      <td>2014-02-14 03:00:00.000</td>\n",
       "      <td>business</td>\n",
       "      <td>55.709637</td>\n",
       "      <td>37.591943</td>\n",
       "      <td>vip</td>\n",
       "      <td>NaN</td>\n",
       "      <td>2</td>\n",
       "      <td>14</td>\n",
       "      <td>3</td>\n",
       "      <td>...</td>\n",
       "      <td>1</td>\n",
       "      <td>0</td>\n",
       "      <td>0</td>\n",
       "      <td>0</td>\n",
       "      <td>1</td>\n",
       "      <td>0</td>\n",
       "      <td>0</td>\n",
       "      <td>0</td>\n",
       "      <td>1</td>\n",
       "      <td>1</td>\n",
       "    </tr>\n",
       "    <tr>\n",
       "      <th>1187441</th>\n",
       "      <td>1852.262891</td>\n",
       "      <td>2014-02-18 15:25:00.000</td>\n",
       "      <td>econom</td>\n",
       "      <td>55.776072</td>\n",
       "      <td>49.142383</td>\n",
       "      <td>business</td>\n",
       "      <td>NaN</td>\n",
       "      <td>2</td>\n",
       "      <td>18</td>\n",
       "      <td>15</td>\n",
       "      <td>...</td>\n",
       "      <td>0</td>\n",
       "      <td>0</td>\n",
       "      <td>0</td>\n",
       "      <td>1</td>\n",
       "      <td>0</td>\n",
       "      <td>0</td>\n",
       "      <td>0</td>\n",
       "      <td>0</td>\n",
       "      <td>1</td>\n",
       "      <td>1</td>\n",
       "    </tr>\n",
       "    <tr>\n",
       "      <th>1187442</th>\n",
       "      <td>3156.150132</td>\n",
       "      <td>2014-02-19 10:55:00.000</td>\n",
       "      <td>econom</td>\n",
       "      <td>55.739732</td>\n",
       "      <td>37.640452</td>\n",
       "      <td>NaN</td>\n",
       "      <td>NaN</td>\n",
       "      <td>2</td>\n",
       "      <td>19</td>\n",
       "      <td>10</td>\n",
       "      <td>...</td>\n",
       "      <td>0</td>\n",
       "      <td>0</td>\n",
       "      <td>0</td>\n",
       "      <td>0</td>\n",
       "      <td>0</td>\n",
       "      <td>0</td>\n",
       "      <td>0</td>\n",
       "      <td>0</td>\n",
       "      <td>1</td>\n",
       "      <td>1</td>\n",
       "    </tr>\n",
       "    <tr>\n",
       "      <th>1187444</th>\n",
       "      <td>-1.000000</td>\n",
       "      <td>2014-01-30 05:14:12.000</td>\n",
       "      <td>econom</td>\n",
       "      <td>55.605058</td>\n",
       "      <td>37.968490</td>\n",
       "      <td>NaN</td>\n",
       "      <td>NaN</td>\n",
       "      <td>1</td>\n",
       "      <td>30</td>\n",
       "      <td>5</td>\n",
       "      <td>...</td>\n",
       "      <td>0</td>\n",
       "      <td>0</td>\n",
       "      <td>0</td>\n",
       "      <td>0</td>\n",
       "      <td>0</td>\n",
       "      <td>0</td>\n",
       "      <td>0</td>\n",
       "      <td>0</td>\n",
       "      <td>1</td>\n",
       "      <td>0</td>\n",
       "    </tr>\n",
       "    <tr>\n",
       "      <th>1187458</th>\n",
       "      <td>7392.419570</td>\n",
       "      <td>2014-01-24 17:15:00.000</td>\n",
       "      <td>econom</td>\n",
       "      <td>55.675961</td>\n",
       "      <td>37.571255</td>\n",
       "      <td>NaN</td>\n",
       "      <td>NaN</td>\n",
       "      <td>1</td>\n",
       "      <td>24</td>\n",
       "      <td>17</td>\n",
       "      <td>...</td>\n",
       "      <td>0</td>\n",
       "      <td>0</td>\n",
       "      <td>0</td>\n",
       "      <td>0</td>\n",
       "      <td>0</td>\n",
       "      <td>0</td>\n",
       "      <td>0</td>\n",
       "      <td>0</td>\n",
       "      <td>1</td>\n",
       "      <td>1</td>\n",
       "    </tr>\n",
       "  </tbody>\n",
       "</table>\n",
       "<p>171425 rows × 22 columns</p>\n",
       "</div>"
      ],
      "text/plain": [
       "                 dist                      due   f_class        lat  \\\n",
       "2        15143.069693  2014-03-02 02:10:00.000    econom  55.741105   \n",
       "3           -1.000000  2014-02-26 13:20:00.000    econom  55.625526   \n",
       "5         9378.037951  2014-01-10 23:20:00.000    econom  55.759841   \n",
       "20       13371.221416  2014-01-01 01:55:00.000    econom  60.035567   \n",
       "24        6172.936928  2014-02-11 10:35:00.000    econom  59.973478   \n",
       "...               ...                      ...       ...        ...   \n",
       "1187439  30451.747232  2014-02-14 03:00:00.000  business  55.709637   \n",
       "1187441   1852.262891  2014-02-18 15:25:00.000    econom  55.776072   \n",
       "1187442   3156.150132  2014-02-19 10:55:00.000    econom  55.739732   \n",
       "1187444     -1.000000  2014-01-30 05:14:12.000    econom  55.605058   \n",
       "1187458   7392.419570  2014-01-24 17:15:00.000    econom  55.675961   \n",
       "\n",
       "               lon   s_class t_class  month  day  hour  ...  f2  f3  s1  s2  \\\n",
       "2        37.615821       NaN     NaN      3    2     2  ...   0   0   0   0   \n",
       "3        37.618543       NaN     NaN      2   26    13  ...   0   0   0   0   \n",
       "5        37.622693  business     NaN      1   10    23  ...   0   0   0   1   \n",
       "20       30.394183       NaN     NaN      1    1     1  ...   0   0   0   0   \n",
       "24       30.350166       NaN     NaN      2   11    10  ...   0   0   0   0   \n",
       "...            ...       ...     ...    ...  ...   ...  ...  ..  ..  ..  ..   \n",
       "1187439  37.591943       vip     NaN      2   14     3  ...   1   0   0   0   \n",
       "1187441  49.142383  business     NaN      2   18    15  ...   0   0   0   1   \n",
       "1187442  37.640452       NaN     NaN      2   19    10  ...   0   0   0   0   \n",
       "1187444  37.968490       NaN     NaN      1   30     5  ...   0   0   0   0   \n",
       "1187458  37.571255       NaN     NaN      1   24    17  ...   0   0   0   0   \n",
       "\n",
       "         s3  t1  t2  t3  y  min  \n",
       "2         0   0   0   0  1    1  \n",
       "3         0   0   0   0  1    0  \n",
       "5         0   0   0   0  1    1  \n",
       "20        0   0   0   0  1    1  \n",
       "24        0   0   0   0  1    1  \n",
       "...      ..  ..  ..  .. ..  ...  \n",
       "1187439   1   0   0   0  1    1  \n",
       "1187441   0   0   0   0  1    1  \n",
       "1187442   0   0   0   0  1    1  \n",
       "1187444   0   0   0   0  1    0  \n",
       "1187458   0   0   0   0  1    1  \n",
       "\n",
       "[171425 rows x 22 columns]"
      ]
     },
     "execution_count": 139,
     "metadata": {},
     "output_type": "execute_result"
    }
   ],
   "source": [
    "train[train['y']==1]"
   ]
  },
  {
   "cell_type": "code",
   "execution_count": 140,
   "id": "f539d993",
   "metadata": {},
   "outputs": [
    {
     "data": {
      "text/html": [
       "<div>\n",
       "<style scoped>\n",
       "    .dataframe tbody tr th:only-of-type {\n",
       "        vertical-align: middle;\n",
       "    }\n",
       "\n",
       "    .dataframe tbody tr th {\n",
       "        vertical-align: top;\n",
       "    }\n",
       "\n",
       "    .dataframe thead th {\n",
       "        text-align: right;\n",
       "    }\n",
       "</style>\n",
       "<table border=\"1\" class=\"dataframe\">\n",
       "  <thead>\n",
       "    <tr style=\"text-align: right;\">\n",
       "      <th></th>\n",
       "      <th>dist</th>\n",
       "      <th>due</th>\n",
       "      <th>f_class</th>\n",
       "      <th>lat</th>\n",
       "      <th>lon</th>\n",
       "      <th>s_class</th>\n",
       "      <th>t_class</th>\n",
       "      <th>month</th>\n",
       "      <th>day</th>\n",
       "      <th>hour</th>\n",
       "      <th>...</th>\n",
       "      <th>f2</th>\n",
       "      <th>f3</th>\n",
       "      <th>s1</th>\n",
       "      <th>s2</th>\n",
       "      <th>s3</th>\n",
       "      <th>t1</th>\n",
       "      <th>t2</th>\n",
       "      <th>t3</th>\n",
       "      <th>y</th>\n",
       "      <th>min</th>\n",
       "    </tr>\n",
       "  </thead>\n",
       "  <tbody>\n",
       "    <tr>\n",
       "      <th>149</th>\n",
       "      <td>1507.561246</td>\n",
       "      <td>2014-01-24 07:35:00.000</td>\n",
       "      <td>business</td>\n",
       "      <td>55.757278</td>\n",
       "      <td>37.612856</td>\n",
       "      <td>econom</td>\n",
       "      <td>vip</td>\n",
       "      <td>1</td>\n",
       "      <td>24</td>\n",
       "      <td>7</td>\n",
       "      <td>...</td>\n",
       "      <td>1</td>\n",
       "      <td>0</td>\n",
       "      <td>1</td>\n",
       "      <td>0</td>\n",
       "      <td>0</td>\n",
       "      <td>0</td>\n",
       "      <td>0</td>\n",
       "      <td>1</td>\n",
       "      <td>0</td>\n",
       "      <td>1</td>\n",
       "    </tr>\n",
       "    <tr>\n",
       "      <th>178</th>\n",
       "      <td>3625.306974</td>\n",
       "      <td>2014-02-02 09:55:00.000</td>\n",
       "      <td>business</td>\n",
       "      <td>55.763067</td>\n",
       "      <td>37.605831</td>\n",
       "      <td>econom</td>\n",
       "      <td>NaN</td>\n",
       "      <td>2</td>\n",
       "      <td>2</td>\n",
       "      <td>9</td>\n",
       "      <td>...</td>\n",
       "      <td>1</td>\n",
       "      <td>0</td>\n",
       "      <td>1</td>\n",
       "      <td>0</td>\n",
       "      <td>0</td>\n",
       "      <td>0</td>\n",
       "      <td>0</td>\n",
       "      <td>0</td>\n",
       "      <td>0</td>\n",
       "      <td>1</td>\n",
       "    </tr>\n",
       "    <tr>\n",
       "      <th>348</th>\n",
       "      <td>887.999771</td>\n",
       "      <td>2014-02-03 13:30:00.000</td>\n",
       "      <td>business</td>\n",
       "      <td>55.697994</td>\n",
       "      <td>37.764838</td>\n",
       "      <td>econom</td>\n",
       "      <td>NaN</td>\n",
       "      <td>2</td>\n",
       "      <td>3</td>\n",
       "      <td>13</td>\n",
       "      <td>...</td>\n",
       "      <td>1</td>\n",
       "      <td>0</td>\n",
       "      <td>1</td>\n",
       "      <td>0</td>\n",
       "      <td>0</td>\n",
       "      <td>0</td>\n",
       "      <td>0</td>\n",
       "      <td>0</td>\n",
       "      <td>0</td>\n",
       "      <td>1</td>\n",
       "    </tr>\n",
       "    <tr>\n",
       "      <th>373</th>\n",
       "      <td>22454.926411</td>\n",
       "      <td>2014-01-08 10:27:13.000</td>\n",
       "      <td>business</td>\n",
       "      <td>55.693059</td>\n",
       "      <td>37.816962</td>\n",
       "      <td>econom</td>\n",
       "      <td>NaN</td>\n",
       "      <td>1</td>\n",
       "      <td>8</td>\n",
       "      <td>10</td>\n",
       "      <td>...</td>\n",
       "      <td>1</td>\n",
       "      <td>0</td>\n",
       "      <td>1</td>\n",
       "      <td>0</td>\n",
       "      <td>0</td>\n",
       "      <td>0</td>\n",
       "      <td>0</td>\n",
       "      <td>0</td>\n",
       "      <td>0</td>\n",
       "      <td>1</td>\n",
       "    </tr>\n",
       "    <tr>\n",
       "      <th>401</th>\n",
       "      <td>-1.000000</td>\n",
       "      <td>2014-01-29 18:15:46.000</td>\n",
       "      <td>business</td>\n",
       "      <td>55.826417</td>\n",
       "      <td>37.529978</td>\n",
       "      <td>econom</td>\n",
       "      <td>NaN</td>\n",
       "      <td>1</td>\n",
       "      <td>29</td>\n",
       "      <td>18</td>\n",
       "      <td>...</td>\n",
       "      <td>1</td>\n",
       "      <td>0</td>\n",
       "      <td>1</td>\n",
       "      <td>0</td>\n",
       "      <td>0</td>\n",
       "      <td>0</td>\n",
       "      <td>0</td>\n",
       "      <td>0</td>\n",
       "      <td>1</td>\n",
       "      <td>0</td>\n",
       "    </tr>\n",
       "    <tr>\n",
       "      <th>...</th>\n",
       "      <td>...</td>\n",
       "      <td>...</td>\n",
       "      <td>...</td>\n",
       "      <td>...</td>\n",
       "      <td>...</td>\n",
       "      <td>...</td>\n",
       "      <td>...</td>\n",
       "      <td>...</td>\n",
       "      <td>...</td>\n",
       "      <td>...</td>\n",
       "      <td>...</td>\n",
       "      <td>...</td>\n",
       "      <td>...</td>\n",
       "      <td>...</td>\n",
       "      <td>...</td>\n",
       "      <td>...</td>\n",
       "      <td>...</td>\n",
       "      <td>...</td>\n",
       "      <td>...</td>\n",
       "      <td>...</td>\n",
       "      <td>...</td>\n",
       "    </tr>\n",
       "    <tr>\n",
       "      <th>1186598</th>\n",
       "      <td>10926.123849</td>\n",
       "      <td>2014-03-02 08:45:00.000</td>\n",
       "      <td>business</td>\n",
       "      <td>55.819176</td>\n",
       "      <td>37.721193</td>\n",
       "      <td>econom</td>\n",
       "      <td>NaN</td>\n",
       "      <td>3</td>\n",
       "      <td>2</td>\n",
       "      <td>8</td>\n",
       "      <td>...</td>\n",
       "      <td>1</td>\n",
       "      <td>0</td>\n",
       "      <td>1</td>\n",
       "      <td>0</td>\n",
       "      <td>0</td>\n",
       "      <td>0</td>\n",
       "      <td>0</td>\n",
       "      <td>0</td>\n",
       "      <td>0</td>\n",
       "      <td>1</td>\n",
       "    </tr>\n",
       "    <tr>\n",
       "      <th>1186607</th>\n",
       "      <td>18077.616087</td>\n",
       "      <td>2014-01-15 12:45:17.000</td>\n",
       "      <td>business</td>\n",
       "      <td>55.735941</td>\n",
       "      <td>37.527444</td>\n",
       "      <td>econom</td>\n",
       "      <td>NaN</td>\n",
       "      <td>1</td>\n",
       "      <td>15</td>\n",
       "      <td>12</td>\n",
       "      <td>...</td>\n",
       "      <td>1</td>\n",
       "      <td>0</td>\n",
       "      <td>1</td>\n",
       "      <td>0</td>\n",
       "      <td>0</td>\n",
       "      <td>0</td>\n",
       "      <td>0</td>\n",
       "      <td>0</td>\n",
       "      <td>0</td>\n",
       "      <td>1</td>\n",
       "    </tr>\n",
       "    <tr>\n",
       "      <th>1186835</th>\n",
       "      <td>5386.975032</td>\n",
       "      <td>2014-02-04 05:50:00.000</td>\n",
       "      <td>business</td>\n",
       "      <td>55.895362</td>\n",
       "      <td>37.480996</td>\n",
       "      <td>econom</td>\n",
       "      <td>NaN</td>\n",
       "      <td>2</td>\n",
       "      <td>4</td>\n",
       "      <td>5</td>\n",
       "      <td>...</td>\n",
       "      <td>1</td>\n",
       "      <td>0</td>\n",
       "      <td>1</td>\n",
       "      <td>0</td>\n",
       "      <td>0</td>\n",
       "      <td>0</td>\n",
       "      <td>0</td>\n",
       "      <td>0</td>\n",
       "      <td>0</td>\n",
       "      <td>1</td>\n",
       "    </tr>\n",
       "    <tr>\n",
       "      <th>1187363</th>\n",
       "      <td>15532.691398</td>\n",
       "      <td>2014-01-23 13:55:00.000</td>\n",
       "      <td>business</td>\n",
       "      <td>55.686316</td>\n",
       "      <td>37.624033</td>\n",
       "      <td>econom</td>\n",
       "      <td>NaN</td>\n",
       "      <td>1</td>\n",
       "      <td>23</td>\n",
       "      <td>13</td>\n",
       "      <td>...</td>\n",
       "      <td>1</td>\n",
       "      <td>0</td>\n",
       "      <td>1</td>\n",
       "      <td>0</td>\n",
       "      <td>0</td>\n",
       "      <td>0</td>\n",
       "      <td>0</td>\n",
       "      <td>0</td>\n",
       "      <td>1</td>\n",
       "      <td>1</td>\n",
       "    </tr>\n",
       "    <tr>\n",
       "      <th>1187416</th>\n",
       "      <td>4674.203479</td>\n",
       "      <td>2014-01-10 12:25:31.000</td>\n",
       "      <td>business</td>\n",
       "      <td>55.738835</td>\n",
       "      <td>37.588081</td>\n",
       "      <td>econom</td>\n",
       "      <td>NaN</td>\n",
       "      <td>1</td>\n",
       "      <td>10</td>\n",
       "      <td>12</td>\n",
       "      <td>...</td>\n",
       "      <td>1</td>\n",
       "      <td>0</td>\n",
       "      <td>1</td>\n",
       "      <td>0</td>\n",
       "      <td>0</td>\n",
       "      <td>0</td>\n",
       "      <td>0</td>\n",
       "      <td>0</td>\n",
       "      <td>0</td>\n",
       "      <td>1</td>\n",
       "    </tr>\n",
       "  </tbody>\n",
       "</table>\n",
       "<p>6066 rows × 22 columns</p>\n",
       "</div>"
      ],
      "text/plain": [
       "                 dist                      due   f_class        lat  \\\n",
       "149       1507.561246  2014-01-24 07:35:00.000  business  55.757278   \n",
       "178       3625.306974  2014-02-02 09:55:00.000  business  55.763067   \n",
       "348        887.999771  2014-02-03 13:30:00.000  business  55.697994   \n",
       "373      22454.926411  2014-01-08 10:27:13.000  business  55.693059   \n",
       "401         -1.000000  2014-01-29 18:15:46.000  business  55.826417   \n",
       "...               ...                      ...       ...        ...   \n",
       "1186598  10926.123849  2014-03-02 08:45:00.000  business  55.819176   \n",
       "1186607  18077.616087  2014-01-15 12:45:17.000  business  55.735941   \n",
       "1186835   5386.975032  2014-02-04 05:50:00.000  business  55.895362   \n",
       "1187363  15532.691398  2014-01-23 13:55:00.000  business  55.686316   \n",
       "1187416   4674.203479  2014-01-10 12:25:31.000  business  55.738835   \n",
       "\n",
       "               lon s_class t_class  month  day  hour  ...  f2  f3  s1  s2  s3  \\\n",
       "149      37.612856  econom     vip      1   24     7  ...   1   0   1   0   0   \n",
       "178      37.605831  econom     NaN      2    2     9  ...   1   0   1   0   0   \n",
       "348      37.764838  econom     NaN      2    3    13  ...   1   0   1   0   0   \n",
       "373      37.816962  econom     NaN      1    8    10  ...   1   0   1   0   0   \n",
       "401      37.529978  econom     NaN      1   29    18  ...   1   0   1   0   0   \n",
       "...            ...     ...     ...    ...  ...   ...  ...  ..  ..  ..  ..  ..   \n",
       "1186598  37.721193  econom     NaN      3    2     8  ...   1   0   1   0   0   \n",
       "1186607  37.527444  econom     NaN      1   15    12  ...   1   0   1   0   0   \n",
       "1186835  37.480996  econom     NaN      2    4     5  ...   1   0   1   0   0   \n",
       "1187363  37.624033  econom     NaN      1   23    13  ...   1   0   1   0   0   \n",
       "1187416  37.588081  econom     NaN      1   10    12  ...   1   0   1   0   0   \n",
       "\n",
       "         t1  t2  t3  y  min  \n",
       "149       0   0   1  0    1  \n",
       "178       0   0   0  0    1  \n",
       "348       0   0   0  0    1  \n",
       "373       0   0   0  0    1  \n",
       "401       0   0   0  1    0  \n",
       "...      ..  ..  .. ..  ...  \n",
       "1186598   0   0   0  0    1  \n",
       "1186607   0   0   0  0    1  \n",
       "1186835   0   0   0  0    1  \n",
       "1187363   0   0   0  1    1  \n",
       "1187416   0   0   0  0    1  \n",
       "\n",
       "[6066 rows x 22 columns]"
      ]
     },
     "execution_count": 140,
     "metadata": {},
     "output_type": "execute_result"
    }
   ],
   "source": [
    "train[train['s1']==1]"
   ]
  },
  {
   "cell_type": "code",
   "execution_count": 109,
   "id": "add92bd7",
   "metadata": {},
   "outputs": [],
   "source": [
    "features = ['dist', 'lat', 'lon', 'f1', 'f2', 'f3', 's1', 's2', 's3', 't1', 't2', 't3', 'month', 'day', 'hour', 'minute', 'min']"
   ]
  },
  {
   "cell_type": "code",
   "execution_count": 157,
   "id": "04c952e9",
   "metadata": {},
   "outputs": [],
   "source": [
    "X_train, X_test, y_train, y_test = train_test_split(train[features], train_y, test_size=0.2, random_state=42)"
   ]
  },
  {
   "cell_type": "code",
   "execution_count": null,
   "id": "e2423e1a",
   "metadata": {},
   "outputs": [],
   "source": []
  },
  {
   "cell_type": "code",
   "execution_count": 111,
   "id": "3df0c16e",
   "metadata": {},
   "outputs": [],
   "source": [
    "features1 = ['dist', 'lat', 'lon', 'f1', 'f2', 'f3', 's1', 's2', 's3', 't1', 't2', 't3', 'month', 'day', 'hour', 'minute', 'min']"
   ]
  },
  {
   "cell_type": "code",
   "execution_count": 158,
   "id": "9b695d66",
   "metadata": {},
   "outputs": [
    {
     "name": "stderr",
     "output_type": "stream",
     "text": [
      "/home/shamil/anaconda3/lib/python3.8/site-packages/sklearn/utils/validation.py:63: DataConversionWarning: A column-vector y was passed when a 1d array was expected. Please change the shape of y to (n_samples, ), for example using ravel().\n",
      "  return f(*args, **kwargs)\n"
     ]
    },
    {
     "data": {
      "text/plain": [
       "LGBMClassifier(learning_rate=0.2, max_depth=8, n_estimators=500, random_state=0)"
      ]
     },
     "execution_count": 158,
     "metadata": {},
     "output_type": "execute_result"
    }
   ],
   "source": [
    "model1 = LGBMClassifier(learning_rate=0.2, max_depth=8, n_estimators=500,  random_state=0)\n",
    "model1.fit(X_train[features1], y_train)"
   ]
  },
  {
   "cell_type": "code",
   "execution_count": 159,
   "id": "550d3832",
   "metadata": {},
   "outputs": [
    {
     "name": "stdout",
     "output_type": "stream",
     "text": [
      "0.5193463194564617\n",
      "0.6650987337444353\n"
     ]
    }
   ],
   "source": [
    "print(roc(y_test, model1.predict(X_test[features1])))\n",
    "print(roc(y_test, model1.predict_proba(X_test[features1])[:, 1]))"
   ]
  },
  {
   "cell_type": "code",
   "execution_count": 145,
   "id": "a4035c16",
   "metadata": {},
   "outputs": [
    {
     "data": {
      "text/plain": [
       "array([2685, 2917, 2905,  152,  116,   90,   50,  253,   88,   30,   23,\n",
       "        102,  499, 1877, 1858, 1348,    7], dtype=int32)"
      ]
     },
     "execution_count": 145,
     "metadata": {},
     "output_type": "execute_result"
    }
   ],
   "source": [
    "model1.feature_importances_"
   ]
  },
  {
   "cell_type": "code",
   "execution_count": null,
   "id": "949ed12e",
   "metadata": {},
   "outputs": [],
   "source": []
  },
  {
   "cell_type": "code",
   "execution_count": 120,
   "id": "c1008515",
   "metadata": {},
   "outputs": [
    {
     "name": "stderr",
     "output_type": "stream",
     "text": [
      "/home/shamil/anaconda3/lib/python3.8/site-packages/sklearn/utils/validation.py:63: DataConversionWarning: A column-vector y was passed when a 1d array was expected. Please change the shape of y to (n_samples, ), for example using ravel().\n",
      "  return f(*args, **kwargs)\n"
     ]
    },
    {
     "data": {
      "text/plain": [
       "LGBMClassifier(max_depth=12, n_estimators=1000, num_leaves=100, random_state=0)"
      ]
     },
     "execution_count": 120,
     "metadata": {},
     "output_type": "execute_result"
    }
   ],
   "source": [
    "model1 = LGBMClassifier(max_depth=12, learning_rate=0.1, num_leaves=100, n_estimators=1000,  random_state=0)\n",
    "model1.fit(X_train[features1], y_train)"
   ]
  },
  {
   "cell_type": "code",
   "execution_count": 121,
   "id": "e5c4462f",
   "metadata": {},
   "outputs": [
    {
     "name": "stdout",
     "output_type": "stream",
     "text": [
      "0.527110596657974\n",
      "0.6714969611913961\n"
     ]
    }
   ],
   "source": [
    "print(roc(y_test, model1.predict(X_test[features1])))\n",
    "print(roc(y_test, model1.predict_proba(X_test[features1])[:, 1]))"
   ]
  },
  {
   "cell_type": "code",
   "execution_count": null,
   "id": "23d87e3c",
   "metadata": {},
   "outputs": [],
   "source": []
  },
  {
   "cell_type": "code",
   "execution_count": 73,
   "id": "a1e60617",
   "metadata": {},
   "outputs": [
    {
     "name": "stderr",
     "output_type": "stream",
     "text": [
      "/home/shamil/anaconda3/lib/python3.8/site-packages/xgboost/sklearn.py:1224: UserWarning: The use of label encoder in XGBClassifier is deprecated and will be removed in a future release. To remove this warning, do the following: 1) Pass option use_label_encoder=False when constructing XGBClassifier object; and 2) Encode your labels (y) as integers starting with 0, i.e. 0, 1, 2, ..., [num_class - 1].\n",
      "  warnings.warn(label_encoder_deprecation_msg, UserWarning)\n",
      "/home/shamil/anaconda3/lib/python3.8/site-packages/sklearn/utils/validation.py:63: DataConversionWarning: A column-vector y was passed when a 1d array was expected. Please change the shape of y to (n_samples, ), for example using ravel().\n",
      "  return f(*args, **kwargs)\n"
     ]
    },
    {
     "name": "stdout",
     "output_type": "stream",
     "text": [
      "[21:56:07] WARNING: ../src/learner.cc:1115: Starting in XGBoost 1.3.0, the default evaluation metric used with the objective 'binary:logistic' was changed from 'error' to 'logloss'. Explicitly set eval_metric if you'd like to restore the old behavior.\n"
     ]
    },
    {
     "data": {
      "text/plain": [
       "XGBClassifier(alpha=10, base_score=0.5, booster='gbtree', colsample_bylevel=1,\n",
       "              colsample_bynode=1, colsample_bytree=1, enable_categorical=False,\n",
       "              gamma=0, gpu_id=-1, importance_type=None,\n",
       "              interaction_constraints='', learning_rate=0.2, max_delta_step=0,\n",
       "              max_depth=10, min_child_weight=1, missing=nan,\n",
       "              monotone_constraints='()', n_estimators=200, n_jobs=16,\n",
       "              num_parallel_tree=1, predictor='auto', random_state=0,\n",
       "              reg_alpha=10, reg_lambda=1, scale_pos_weight=1, subsample=1,\n",
       "              tree_method='exact', validate_parameters=1, verbosity=None)"
      ]
     },
     "execution_count": 73,
     "metadata": {},
     "output_type": "execute_result"
    }
   ],
   "source": [
    "params = {\n",
    "            'objective':'binary:logistic',\n",
    "            'max_depth': 10,\n",
    "            'alpha': 10,\n",
    "            'learning_rate': 0.2,\n",
    "            'n_estimators':200\n",
    "        } \n",
    "model4 = xgb.XGBClassifier(**params)\n",
    "model4.fit(X_train[features1], y_train)"
   ]
  },
  {
   "cell_type": "code",
   "execution_count": 74,
   "id": "8ac6ecc3",
   "metadata": {},
   "outputs": [
    {
     "name": "stdout",
     "output_type": "stream",
     "text": [
      "0.5259774688707558\n",
      "0.6713971631060996\n"
     ]
    }
   ],
   "source": [
    "print(roc(y_test, model4.predict(X_test[features1])))\n",
    "print(roc(y_test, model4.predict_proba(X_test[features1])[:, 1]))"
   ]
  },
  {
   "cell_type": "code",
   "execution_count": null,
   "id": "30dfded7",
   "metadata": {},
   "outputs": [],
   "source": []
  },
  {
   "cell_type": "code",
   "execution_count": 20,
   "id": "dbaebb14",
   "metadata": {},
   "outputs": [],
   "source": [
    "def algorithm_pipeline(X_train_data, X_test_data, y_train_data, y_test_data, \n",
    "                       model, param_grid, cv=10, scoring_fit='roc_auc',\n",
    "                       do_probabilities = False):\n",
    "    gs = GridSearchCV(\n",
    "        estimator=model,\n",
    "        param_grid=param_grid, \n",
    "        cv=cv, \n",
    "        n_jobs=-1, \n",
    "        scoring=scoring_fit,\n",
    "        verbose=2\n",
    "    )\n",
    "    fitted_model = gs.fit(X_train_data, y_train_data)\n",
    "    \n",
    "    if do_probabilities:\n",
    "      pred = fitted_model.predict_proba(X_test_data)\n",
    "    else:\n",
    "      pred = fitted_model.predict(X_test_data)\n",
    "    \n",
    "    return fitted_model, pred"
   ]
  },
  {
   "cell_type": "code",
   "execution_count": 39,
   "id": "2c5dc599",
   "metadata": {},
   "outputs": [
    {
     "name": "stdout",
     "output_type": "stream",
     "text": [
      "Fitting 5 folds for each of 1 candidates, totalling 5 fits\n"
     ]
    },
    {
     "name": "stderr",
     "output_type": "stream",
     "text": [
      "/home/shamil/anaconda3/lib/python3.8/site-packages/sklearn/utils/validation.py:63: DataConversionWarning: A column-vector y was passed when a 1d array was expected. Please change the shape of y to (n_samples, ), for example using ravel().\n",
      "  return f(*args, **kwargs)\n"
     ]
    },
    {
     "name": "stdout",
     "output_type": "stream",
     "text": [
      "0.6681807421282853\n",
      "{'max_depth': 15, 'n_estimators': 1000, 'num_leaves': 50, 'reg_alpha': 1.3, 'reg_lambda': 1.1, 'subsample_freq': 20}\n"
     ]
    }
   ],
   "source": [
    "model = LGBMClassifier()\n",
    "param_grid = {\n",
    "    'n_estimators': [1000],\n",
    "#    'colsample_bytree': [0.7, 0.8],\n",
    "    'max_depth': [15],\n",
    "    'num_leaves': [50],\n",
    "    'reg_alpha': [1.3],\n",
    "    'reg_lambda': [1.1],\n",
    "#    'min_split_gain': [0.3, 0.4],\n",
    "#    'subsample': [0.7, 0.8, 0.9],\n",
    "    'subsample_freq': [20]\n",
    "}\n",
    "\n",
    "model, pred = algorithm_pipeline(X_train, X_test, y_train, y_test, model, \n",
    "                                 param_grid, cv=5)\n",
    "\n",
    "print(model.best_score_)\n",
    "print(model.best_params_)"
   ]
  },
  {
   "cell_type": "code",
   "execution_count": null,
   "id": "e27471d8",
   "metadata": {},
   "outputs": [],
   "source": []
  },
  {
   "cell_type": "code",
   "execution_count": 147,
   "id": "1c484afa",
   "metadata": {},
   "outputs": [],
   "source": [
    "features2 = ['f1', 'f2', 'f3', 's1', 's2', 's3', 't1', 't2', 't3', 'month', 'day', 'hour', 'minute']"
   ]
  },
  {
   "cell_type": "code",
   "execution_count": 507,
   "id": "b2e507a5",
   "metadata": {},
   "outputs": [
    {
     "data": {
      "text/plain": [
       "DecisionTreeClassifier(criterion='entropy', max_depth=11, random_state=0)"
      ]
     },
     "execution_count": 507,
     "metadata": {},
     "output_type": "execute_result"
    }
   ],
   "source": [
    "model2 = DecisionTreeClassifier(max_depth=11, criterion='entropy', random_state=0)\n",
    "model2.fit(X_train[features2], y_train)"
   ]
  },
  {
   "cell_type": "code",
   "execution_count": 508,
   "id": "763da47c",
   "metadata": {},
   "outputs": [
    {
     "name": "stdout",
     "output_type": "stream",
     "text": [
      "0.5134038332143782\n",
      "0.6315996752416588\n"
     ]
    }
   ],
   "source": [
    "print(roc(y_test, model2.predict(X_test[features2])))\n",
    "print(roc(y_test, model2.predict_proba(X_test[features2])[:, 1]))"
   ]
  },
  {
   "cell_type": "code",
   "execution_count": 328,
   "id": "cbb32840",
   "metadata": {},
   "outputs": [
    {
     "name": "stdout",
     "output_type": "stream",
     "text": [
      "11\n",
      "1083\n"
     ]
    }
   ],
   "source": [
    "print(model2.get_depth())\n",
    "print(model2.get_n_leaves())"
   ]
  },
  {
   "cell_type": "code",
   "execution_count": 149,
   "id": "250e284c",
   "metadata": {},
   "outputs": [
    {
     "ename": "NameError",
     "evalue": "name 'model2' is not defined",
     "output_type": "error",
     "traceback": [
      "\u001b[0;31m---------------------------------------------------------------------------\u001b[0m",
      "\u001b[0;31mNameError\u001b[0m                                 Traceback (most recent call last)",
      "\u001b[0;32m/tmp/ipykernel_4300/2241177356.py\u001b[0m in \u001b[0;36m<module>\u001b[0;34m\u001b[0m\n\u001b[0;32m----> 1\u001b[0;31m \u001b[0mtrain\u001b[0m\u001b[0;34m[\u001b[0m\u001b[0;34m'add1'\u001b[0m\u001b[0;34m]\u001b[0m\u001b[0;34m=\u001b[0m\u001b[0mmodel2\u001b[0m\u001b[0;34m.\u001b[0m\u001b[0mpredict_proba\u001b[0m\u001b[0;34m(\u001b[0m\u001b[0mtrain\u001b[0m\u001b[0;34m[\u001b[0m\u001b[0mfeatures2\u001b[0m\u001b[0;34m]\u001b[0m\u001b[0;34m)\u001b[0m\u001b[0;34m[\u001b[0m\u001b[0;34m:\u001b[0m\u001b[0;34m,\u001b[0m \u001b[0;36m0\u001b[0m\u001b[0;34m]\u001b[0m\u001b[0;34m\u001b[0m\u001b[0;34m\u001b[0m\u001b[0m\n\u001b[0m\u001b[1;32m      2\u001b[0m \u001b[0mtrain\u001b[0m\u001b[0;34m[\u001b[0m\u001b[0;34m'add2'\u001b[0m\u001b[0;34m]\u001b[0m\u001b[0;34m=\u001b[0m\u001b[0mmodel2\u001b[0m\u001b[0;34m.\u001b[0m\u001b[0mpredict_proba\u001b[0m\u001b[0;34m(\u001b[0m\u001b[0mtrain\u001b[0m\u001b[0;34m[\u001b[0m\u001b[0mfeatures2\u001b[0m\u001b[0;34m]\u001b[0m\u001b[0;34m)\u001b[0m\u001b[0;34m[\u001b[0m\u001b[0;34m:\u001b[0m\u001b[0;34m,\u001b[0m \u001b[0;36m1\u001b[0m\u001b[0;34m]\u001b[0m\u001b[0;34m\u001b[0m\u001b[0;34m\u001b[0m\u001b[0m\n",
      "\u001b[0;31mNameError\u001b[0m: name 'model2' is not defined"
     ]
    }
   ],
   "source": [
    "train['add1']=model2.predict_proba(train[features2])[:, 0]\n",
    "train['add2']=model2.predict_proba(train[features2])[:, 1]"
   ]
  },
  {
   "cell_type": "code",
   "execution_count": 150,
   "id": "ed97179c",
   "metadata": {},
   "outputs": [
    {
     "name": "stderr",
     "output_type": "stream",
     "text": [
      "/home/shamil/anaconda3/lib/python3.8/site-packages/sklearn/utils/validation.py:63: DataConversionWarning: A column-vector y was passed when a 1d array was expected. Please change the shape of y to (n_samples, ), for example using ravel().\n",
      "  return f(*args, **kwargs)\n",
      "/home/shamil/anaconda3/lib/python3.8/site-packages/sklearn/linear_model/_logistic.py:763: ConvergenceWarning: lbfgs failed to converge (status=1):\n",
      "STOP: TOTAL NO. of ITERATIONS REACHED LIMIT.\n",
      "\n",
      "Increase the number of iterations (max_iter) or scale the data as shown in:\n",
      "    https://scikit-learn.org/stable/modules/preprocessing.html\n",
      "Please also refer to the documentation for alternative solver options:\n",
      "    https://scikit-learn.org/stable/modules/linear_model.html#logistic-regression\n",
      "  n_iter_i = _check_optimize_result(\n"
     ]
    },
    {
     "data": {
      "text/plain": [
       "LogisticRegression(random_state=0)"
      ]
     },
     "execution_count": 150,
     "metadata": {},
     "output_type": "execute_result"
    }
   ],
   "source": [
    "model3 = LogisticRegression(random_state=0)\n",
    "model3.fit(X_train[features2], y_train)"
   ]
  },
  {
   "cell_type": "code",
   "execution_count": 512,
   "id": "5767ac0f",
   "metadata": {},
   "outputs": [],
   "source": [
    "y_pred = model3.predict_proba(model1.predict_proba(X_test[features1]))[:,1]\n",
    "y = model1.predict_proba(X_test[features1])[:, 1]"
   ]
  },
  {
   "cell_type": "code",
   "execution_count": 151,
   "id": "a86f4f86",
   "metadata": {},
   "outputs": [
    {
     "name": "stdout",
     "output_type": "stream",
     "text": [
      "0.5291153927834532\n"
     ]
    }
   ],
   "source": [
    "print(roc(y_test, model3.predict_proba(X_test[features2])[:,1]))"
   ]
  },
  {
   "cell_type": "code",
   "execution_count": 425,
   "id": "fb82cfec",
   "metadata": {},
   "outputs": [
    {
     "data": {
      "text/plain": [
       "array([-0.00899832, -0.00899832,  0.00888623, ..., -0.00899832,\n",
       "       -0.00031122,  0.0222507 ])"
      ]
     },
     "execution_count": 425,
     "metadata": {},
     "output_type": "execute_result"
    }
   ],
   "source": [
    "y-y_pred"
   ]
  },
  {
   "cell_type": "code",
   "execution_count": 406,
   "id": "04a81e98",
   "metadata": {},
   "outputs": [
    {
     "data": {
      "text/plain": [
       "(237493,)"
      ]
     },
     "execution_count": 406,
     "metadata": {},
     "output_type": "execute_result"
    }
   ],
   "source": [
    "y.shape"
   ]
  },
  {
   "cell_type": "code",
   "execution_count": 407,
   "id": "0308c061",
   "metadata": {},
   "outputs": [
    {
     "data": {
      "text/plain": [
       "(237493, 1)"
      ]
     },
     "execution_count": 407,
     "metadata": {},
     "output_type": "execute_result"
    }
   ],
   "source": [
    "y_test.shape"
   ]
  },
  {
   "cell_type": "code",
   "execution_count": null,
   "id": "f427d545",
   "metadata": {},
   "outputs": [],
   "source": []
  },
  {
   "cell_type": "code",
   "execution_count": 80,
   "id": "b5fba052",
   "metadata": {},
   "outputs": [],
   "source": [
    "sub['target']=model1.predict_proba(test[features1])[:, 1]"
   ]
  },
  {
   "cell_type": "code",
   "execution_count": 81,
   "id": "2c55cd67",
   "metadata": {},
   "outputs": [],
   "source": [
    "sub.to_csv('submission.csv', index=False)"
   ]
  },
  {
   "cell_type": "code",
   "execution_count": 76,
   "id": "cd704c56",
   "metadata": {},
   "outputs": [
    {
     "data": {
      "text/html": [
       "<div>\n",
       "<style scoped>\n",
       "    .dataframe tbody tr th:only-of-type {\n",
       "        vertical-align: middle;\n",
       "    }\n",
       "\n",
       "    .dataframe tbody tr th {\n",
       "        vertical-align: top;\n",
       "    }\n",
       "\n",
       "    .dataframe thead th {\n",
       "        text-align: right;\n",
       "    }\n",
       "</style>\n",
       "<table border=\"1\" class=\"dataframe\">\n",
       "  <thead>\n",
       "    <tr style=\"text-align: right;\">\n",
       "      <th></th>\n",
       "      <th>index</th>\n",
       "      <th>target</th>\n",
       "    </tr>\n",
       "  </thead>\n",
       "  <tbody>\n",
       "    <tr>\n",
       "      <th>0</th>\n",
       "      <td>0</td>\n",
       "      <td>0.069300</td>\n",
       "    </tr>\n",
       "    <tr>\n",
       "      <th>1</th>\n",
       "      <td>1</td>\n",
       "      <td>0.097166</td>\n",
       "    </tr>\n",
       "    <tr>\n",
       "      <th>2</th>\n",
       "      <td>2</td>\n",
       "      <td>0.092948</td>\n",
       "    </tr>\n",
       "    <tr>\n",
       "      <th>3</th>\n",
       "      <td>3</td>\n",
       "      <td>0.090894</td>\n",
       "    </tr>\n",
       "    <tr>\n",
       "      <th>4</th>\n",
       "      <td>4</td>\n",
       "      <td>0.225066</td>\n",
       "    </tr>\n",
       "    <tr>\n",
       "      <th>...</th>\n",
       "      <td>...</td>\n",
       "      <td>...</td>\n",
       "    </tr>\n",
       "    <tr>\n",
       "      <th>510932</th>\n",
       "      <td>510932</td>\n",
       "      <td>0.322149</td>\n",
       "    </tr>\n",
       "    <tr>\n",
       "      <th>510933</th>\n",
       "      <td>510933</td>\n",
       "      <td>0.302158</td>\n",
       "    </tr>\n",
       "    <tr>\n",
       "      <th>510934</th>\n",
       "      <td>510934</td>\n",
       "      <td>0.199579</td>\n",
       "    </tr>\n",
       "    <tr>\n",
       "      <th>510935</th>\n",
       "      <td>510935</td>\n",
       "      <td>0.278092</td>\n",
       "    </tr>\n",
       "    <tr>\n",
       "      <th>510936</th>\n",
       "      <td>510936</td>\n",
       "      <td>0.105216</td>\n",
       "    </tr>\n",
       "  </tbody>\n",
       "</table>\n",
       "<p>510937 rows × 2 columns</p>\n",
       "</div>"
      ],
      "text/plain": [
       "         index    target\n",
       "0            0  0.069300\n",
       "1            1  0.097166\n",
       "2            2  0.092948\n",
       "3            3  0.090894\n",
       "4            4  0.225066\n",
       "...        ...       ...\n",
       "510932  510932  0.322149\n",
       "510933  510933  0.302158\n",
       "510934  510934  0.199579\n",
       "510935  510935  0.278092\n",
       "510936  510936  0.105216\n",
       "\n",
       "[510937 rows x 2 columns]"
      ]
     },
     "execution_count": 76,
     "metadata": {},
     "output_type": "execute_result"
    }
   ],
   "source": [
    "sub"
   ]
  },
  {
   "cell_type": "code",
   "execution_count": 160,
   "id": "ca826a08",
   "metadata": {},
   "outputs": [],
   "source": [
    "tr = pd.read_csv('1_data/train_data.csv').assign(target=pd.read_csv('1_data/train_target.csv'), is_train=1)\n",
    "tst = pd.read_csv('1_data/test_data.csv').assign(target=np.nan, is_train=0)\n",
    "df = pd.concat([tr, tst], axis=0, sort=False, ignore_index=True)\n",
    "\n",
    "moscow = pd.read_json('weather_data/group-city-moscow.jsonl', lines=True).assign(city='moscow')\n",
    "spb = pd.read_json('weather_data/group-city-spb.jsonl', lines=True).assign(city='spb')\n",
    "kazan = pd.read_json('weather_data/group-city-kazan.jsonl', lines=True).assign(city='kazan')\n",
    "nnovgorod = pd.read_json('weather_data/group-city-nnovgorod.jsonl', lines=True).assign(city='nnovgorod')\n",
    "voronezh = pd.read_json('weather_data/group-city-voronezh.jsonl', lines=True).assign(city='voronezh')\n",
    "cities = pd.concat([moscow, kazan, nnovgorod, voronezh, spb], axis=0, sort=False)"
   ]
  },
  {
   "cell_type": "code",
   "execution_count": 163,
   "id": "12062805",
   "metadata": {},
   "outputs": [],
   "source": [
    "def bw(self: pd.Series, a, b):\n",
    "    return (a <= self) & (self <= b)\n",
    "\n",
    "pd.Series.bw = bw\n",
    "\n",
    "import pandasql\n",
    "\n",
    "def merge_cities(data: pd.DataFrame, cities: pd.DataFrame) -> pd.DataFrame:\n",
    "        '''\n",
    "        construct merged df from raw data and cities data\n",
    "        \n",
    "        cities: pd.concat(cities, axis=0, sort=False)\n",
    "        '''\n",
    "        X = data.copy()\n",
    "        \n",
    "        X['city'] = 'other'\n",
    "        X.loc[X.lat.bw(59.4, 60.3) & X.lon.bw(29.23, 31.394), 'city'] = 'spb'\n",
    "        X.loc[X.lat.bw(54.35, 56.7) & X.lon.bw(35.05, 39.86), 'city'] = 'moscow'\n",
    "        X.loc[X.lat.bw(49.68, 52.03) & X.lon.bw(37.68, 43.35), 'city'] = 'voronezh'\n",
    "        X.loc[X.lat.bw(55.95, 56.45) & X.lon.bw(43.38, 44.76), 'city'] = 'nnovgorod'\n",
    "        X.loc[X.lat.bw(55.46, 55.94) & X.lon.bw(48.54, 50.06), 'city'] = 'kazan'\n",
    "\n",
    "        # К каждой записи из X берем только ту запись из cities, где time максимальный при условии time <= due\n",
    "        # minut 40\n",
    "        merged = pandasql.sqldf('''\n",
    "            select * from X\n",
    "            left join cities\n",
    "                on X.city = cities.city\n",
    "                    and cities.time = (\n",
    "                                        select max(time)\n",
    "                                        from cities\n",
    "                                        where cities.city = X.city\n",
    "                                            and datetime(cities.time) <= datetime(X.due)\n",
    "                                    )\n",
    "        ''')\n",
    "        \n",
    "        return merged"
   ]
  },
  {
   "cell_type": "code",
   "execution_count": 162,
   "id": "890482ac",
   "metadata": {},
   "outputs": [
    {
     "name": "stdout",
     "output_type": "stream",
     "text": [
      "Collecting pandasql\n",
      "  Downloading pandasql-0.7.3.tar.gz (26 kB)\n",
      "Requirement already satisfied: numpy in /home/shamil/anaconda3/lib/python3.8/site-packages (from pandasql) (1.20.3)\n",
      "Requirement already satisfied: pandas in /home/shamil/anaconda3/lib/python3.8/site-packages (from pandasql) (1.3.2)\n",
      "Requirement already satisfied: sqlalchemy in /home/shamil/anaconda3/lib/python3.8/site-packages (from pandasql) (1.4.22)\n",
      "Requirement already satisfied: python-dateutil>=2.7.3 in /home/shamil/anaconda3/lib/python3.8/site-packages (from pandas->pandasql) (2.8.2)\n",
      "Requirement already satisfied: pytz>=2017.3 in /home/shamil/anaconda3/lib/python3.8/site-packages (from pandas->pandasql) (2021.1)\n",
      "Requirement already satisfied: six>=1.5 in /home/shamil/anaconda3/lib/python3.8/site-packages (from python-dateutil>=2.7.3->pandas->pandasql) (1.16.0)\n",
      "Requirement already satisfied: greenlet!=0.4.17 in /home/shamil/anaconda3/lib/python3.8/site-packages (from sqlalchemy->pandasql) (1.1.1)\n",
      "Building wheels for collected packages: pandasql\n",
      "  Building wheel for pandasql (setup.py) ... \u001b[?25ldone\n",
      "\u001b[?25h  Created wheel for pandasql: filename=pandasql-0.7.3-py3-none-any.whl size=26816 sha256=8d3ba537aa90f0400da486b4f8dfd08366c80b81fb1380bbc1feb1c661f149a8\n",
      "  Stored in directory: /home/shamil/.cache/pip/wheels/ed/8f/46/a383923333728744f01ba24adbd8e364f2cb9470a8b8e5b9ff\n",
      "Successfully built pandasql\n",
      "Installing collected packages: pandasql\n",
      "Successfully installed pandasql-0.7.3\n"
     ]
    }
   ],
   "source": [
    "!pip install pandasql"
   ]
  },
  {
   "cell_type": "code",
   "execution_count": 164,
   "id": "8ea7cbdd",
   "metadata": {},
   "outputs": [
    {
     "ename": "KeyboardInterrupt",
     "evalue": "",
     "output_type": "error",
     "traceback": [
      "\u001b[0;31m---------------------------------------------------------------------------\u001b[0m",
      "\u001b[0;31mKeyboardInterrupt\u001b[0m                         Traceback (most recent call last)",
      "\u001b[0;32m/tmp/ipykernel_4300/3427780486.py\u001b[0m in \u001b[0;36m<module>\u001b[0;34m\u001b[0m\n\u001b[0;32m----> 1\u001b[0;31m \u001b[0mmerge_cities\u001b[0m\u001b[0;34m(\u001b[0m\u001b[0mdf\u001b[0m\u001b[0;34m,\u001b[0m \u001b[0mmoscow\u001b[0m\u001b[0;34m)\u001b[0m\u001b[0;34m\u001b[0m\u001b[0;34m\u001b[0m\u001b[0m\n\u001b[0m",
      "\u001b[0;32m/tmp/ipykernel_4300/3826936219.py\u001b[0m in \u001b[0;36mmerge_cities\u001b[0;34m(data, cities)\u001b[0m\n\u001b[1;32m     23\u001b[0m         \u001b[0;31m# К каждой записи из X берем только ту запись из cities, где time максимальный при условии time <= due\u001b[0m\u001b[0;34m\u001b[0m\u001b[0;34m\u001b[0m\u001b[0;34m\u001b[0m\u001b[0m\n\u001b[1;32m     24\u001b[0m         \u001b[0;31m# minut 40\u001b[0m\u001b[0;34m\u001b[0m\u001b[0;34m\u001b[0m\u001b[0;34m\u001b[0m\u001b[0m\n\u001b[0;32m---> 25\u001b[0;31m         merged = pandasql.sqldf('''\n\u001b[0m\u001b[1;32m     26\u001b[0m             \u001b[0mselect\u001b[0m \u001b[0;34m*\u001b[0m \u001b[0;32mfrom\u001b[0m \u001b[0mX\u001b[0m\u001b[0;34m\u001b[0m\u001b[0;34m\u001b[0m\u001b[0m\n\u001b[1;32m     27\u001b[0m             \u001b[0mleft\u001b[0m \u001b[0mjoin\u001b[0m \u001b[0mcities\u001b[0m\u001b[0;34m\u001b[0m\u001b[0;34m\u001b[0m\u001b[0m\n",
      "\u001b[0;32m~/anaconda3/lib/python3.8/site-packages/pandasql/sqldf.py\u001b[0m in \u001b[0;36msqldf\u001b[0;34m(query, env, db_uri)\u001b[0m\n\u001b[1;32m    154\u001b[0m     \u001b[0;34m>>\u001b[0m\u001b[0;34m>\u001b[0m \u001b[0msqldf\u001b[0m\u001b[0;34m(\u001b[0m\u001b[0;34m\"select avg(x) from df;\"\u001b[0m\u001b[0;34m,\u001b[0m \u001b[0mlocals\u001b[0m\u001b[0;34m(\u001b[0m\u001b[0;34m)\u001b[0m\u001b[0;34m)\u001b[0m\u001b[0;34m\u001b[0m\u001b[0;34m\u001b[0m\u001b[0m\n\u001b[1;32m    155\u001b[0m     \"\"\"\n\u001b[0;32m--> 156\u001b[0;31m     \u001b[0;32mreturn\u001b[0m \u001b[0mPandaSQL\u001b[0m\u001b[0;34m(\u001b[0m\u001b[0mdb_uri\u001b[0m\u001b[0;34m)\u001b[0m\u001b[0;34m(\u001b[0m\u001b[0mquery\u001b[0m\u001b[0;34m,\u001b[0m \u001b[0menv\u001b[0m\u001b[0;34m)\u001b[0m\u001b[0;34m\u001b[0m\u001b[0;34m\u001b[0m\u001b[0m\n\u001b[0m",
      "\u001b[0;32m~/anaconda3/lib/python3.8/site-packages/pandasql/sqldf.py\u001b[0m in \u001b[0;36m__call__\u001b[0;34m(self, query, env)\u001b[0m\n\u001b[1;32m     59\u001b[0m \u001b[0;34m\u001b[0m\u001b[0m\n\u001b[1;32m     60\u001b[0m             \u001b[0;32mtry\u001b[0m\u001b[0;34m:\u001b[0m\u001b[0;34m\u001b[0m\u001b[0;34m\u001b[0m\u001b[0m\n\u001b[0;32m---> 61\u001b[0;31m                 \u001b[0mresult\u001b[0m \u001b[0;34m=\u001b[0m \u001b[0mread_sql\u001b[0m\u001b[0;34m(\u001b[0m\u001b[0mquery\u001b[0m\u001b[0;34m,\u001b[0m \u001b[0mconn\u001b[0m\u001b[0;34m)\u001b[0m\u001b[0;34m\u001b[0m\u001b[0;34m\u001b[0m\u001b[0m\n\u001b[0m\u001b[1;32m     62\u001b[0m             \u001b[0;32mexcept\u001b[0m \u001b[0mDatabaseError\u001b[0m \u001b[0;32mas\u001b[0m \u001b[0mex\u001b[0m\u001b[0;34m:\u001b[0m\u001b[0;34m\u001b[0m\u001b[0;34m\u001b[0m\u001b[0m\n\u001b[1;32m     63\u001b[0m                 \u001b[0;32mraise\u001b[0m \u001b[0mPandaSQLException\u001b[0m\u001b[0;34m(\u001b[0m\u001b[0mex\u001b[0m\u001b[0;34m)\u001b[0m\u001b[0;34m\u001b[0m\u001b[0;34m\u001b[0m\u001b[0m\n",
      "\u001b[0;32m~/anaconda3/lib/python3.8/site-packages/pandas/io/sql.py\u001b[0m in \u001b[0;36mread_sql\u001b[0;34m(sql, con, index_col, coerce_float, params, parse_dates, columns, chunksize)\u001b[0m\n\u001b[1;32m    626\u001b[0m         )\n\u001b[1;32m    627\u001b[0m     \u001b[0;32melse\u001b[0m\u001b[0;34m:\u001b[0m\u001b[0;34m\u001b[0m\u001b[0;34m\u001b[0m\u001b[0m\n\u001b[0;32m--> 628\u001b[0;31m         return pandas_sql.read_query(\n\u001b[0m\u001b[1;32m    629\u001b[0m             \u001b[0msql\u001b[0m\u001b[0;34m,\u001b[0m\u001b[0;34m\u001b[0m\u001b[0;34m\u001b[0m\u001b[0m\n\u001b[1;32m    630\u001b[0m             \u001b[0mindex_col\u001b[0m\u001b[0;34m=\u001b[0m\u001b[0mindex_col\u001b[0m\u001b[0;34m,\u001b[0m\u001b[0;34m\u001b[0m\u001b[0;34m\u001b[0m\u001b[0m\n",
      "\u001b[0;32m~/anaconda3/lib/python3.8/site-packages/pandas/io/sql.py\u001b[0m in \u001b[0;36mread_query\u001b[0;34m(self, sql, index_col, coerce_float, parse_dates, params, chunksize, dtype)\u001b[0m\n\u001b[1;32m   1591\u001b[0m             )\n\u001b[1;32m   1592\u001b[0m         \u001b[0;32melse\u001b[0m\u001b[0;34m:\u001b[0m\u001b[0;34m\u001b[0m\u001b[0;34m\u001b[0m\u001b[0m\n\u001b[0;32m-> 1593\u001b[0;31m             \u001b[0mdata\u001b[0m \u001b[0;34m=\u001b[0m \u001b[0mresult\u001b[0m\u001b[0;34m.\u001b[0m\u001b[0mfetchall\u001b[0m\u001b[0;34m(\u001b[0m\u001b[0;34m)\u001b[0m\u001b[0;34m\u001b[0m\u001b[0;34m\u001b[0m\u001b[0m\n\u001b[0m\u001b[1;32m   1594\u001b[0m             frame = _wrap_result(\n\u001b[1;32m   1595\u001b[0m                 \u001b[0mdata\u001b[0m\u001b[0;34m,\u001b[0m\u001b[0;34m\u001b[0m\u001b[0;34m\u001b[0m\u001b[0m\n",
      "\u001b[0;32m~/anaconda3/lib/python3.8/site-packages/sqlalchemy/engine/result.py\u001b[0m in \u001b[0;36mfetchall\u001b[0;34m(self)\u001b[0m\n\u001b[1;32m    990\u001b[0m         \u001b[0;34m\"\"\"A synonym for the :meth:`_engine.Result.all` method.\"\"\"\u001b[0m\u001b[0;34m\u001b[0m\u001b[0;34m\u001b[0m\u001b[0m\n\u001b[1;32m    991\u001b[0m \u001b[0;34m\u001b[0m\u001b[0m\n\u001b[0;32m--> 992\u001b[0;31m         \u001b[0;32mreturn\u001b[0m \u001b[0mself\u001b[0m\u001b[0;34m.\u001b[0m\u001b[0m_allrows\u001b[0m\u001b[0;34m(\u001b[0m\u001b[0;34m)\u001b[0m\u001b[0;34m\u001b[0m\u001b[0;34m\u001b[0m\u001b[0m\n\u001b[0m\u001b[1;32m    993\u001b[0m \u001b[0;34m\u001b[0m\u001b[0m\n\u001b[1;32m    994\u001b[0m     \u001b[0;32mdef\u001b[0m \u001b[0mfetchone\u001b[0m\u001b[0;34m(\u001b[0m\u001b[0mself\u001b[0m\u001b[0;34m)\u001b[0m\u001b[0;34m:\u001b[0m\u001b[0;34m\u001b[0m\u001b[0;34m\u001b[0m\u001b[0m\n",
      "\u001b[0;32m~/anaconda3/lib/python3.8/site-packages/sqlalchemy/engine/result.py\u001b[0m in \u001b[0;36m_allrows\u001b[0;34m(self)\u001b[0m\n\u001b[1;32m    398\u001b[0m         \u001b[0mmake_row\u001b[0m \u001b[0;34m=\u001b[0m \u001b[0mself\u001b[0m\u001b[0;34m.\u001b[0m\u001b[0m_row_getter\u001b[0m\u001b[0;34m\u001b[0m\u001b[0;34m\u001b[0m\u001b[0m\n\u001b[1;32m    399\u001b[0m \u001b[0;34m\u001b[0m\u001b[0m\n\u001b[0;32m--> 400\u001b[0;31m         \u001b[0mrows\u001b[0m \u001b[0;34m=\u001b[0m \u001b[0mself\u001b[0m\u001b[0;34m.\u001b[0m\u001b[0m_fetchall_impl\u001b[0m\u001b[0;34m(\u001b[0m\u001b[0;34m)\u001b[0m\u001b[0;34m\u001b[0m\u001b[0;34m\u001b[0m\u001b[0m\n\u001b[0m\u001b[1;32m    401\u001b[0m         \u001b[0;32mif\u001b[0m \u001b[0mmake_row\u001b[0m\u001b[0;34m:\u001b[0m\u001b[0;34m\u001b[0m\u001b[0;34m\u001b[0m\u001b[0m\n\u001b[1;32m    402\u001b[0m             \u001b[0mmade_rows\u001b[0m \u001b[0;34m=\u001b[0m \u001b[0;34m[\u001b[0m\u001b[0mmake_row\u001b[0m\u001b[0;34m(\u001b[0m\u001b[0mrow\u001b[0m\u001b[0;34m)\u001b[0m \u001b[0;32mfor\u001b[0m \u001b[0mrow\u001b[0m \u001b[0;32min\u001b[0m \u001b[0mrows\u001b[0m\u001b[0;34m]\u001b[0m\u001b[0;34m\u001b[0m\u001b[0;34m\u001b[0m\u001b[0m\n",
      "\u001b[0;32m~/anaconda3/lib/python3.8/site-packages/sqlalchemy/engine/cursor.py\u001b[0m in \u001b[0;36m_fetchall_impl\u001b[0;34m(self)\u001b[0m\n\u001b[1;32m   1795\u001b[0m \u001b[0;34m\u001b[0m\u001b[0m\n\u001b[1;32m   1796\u001b[0m     \u001b[0;32mdef\u001b[0m \u001b[0m_fetchall_impl\u001b[0m\u001b[0;34m(\u001b[0m\u001b[0mself\u001b[0m\u001b[0;34m)\u001b[0m\u001b[0;34m:\u001b[0m\u001b[0;34m\u001b[0m\u001b[0;34m\u001b[0m\u001b[0m\n\u001b[0;32m-> 1797\u001b[0;31m         \u001b[0;32mreturn\u001b[0m \u001b[0mself\u001b[0m\u001b[0;34m.\u001b[0m\u001b[0mcursor_strategy\u001b[0m\u001b[0;34m.\u001b[0m\u001b[0mfetchall\u001b[0m\u001b[0;34m(\u001b[0m\u001b[0mself\u001b[0m\u001b[0;34m,\u001b[0m \u001b[0mself\u001b[0m\u001b[0;34m.\u001b[0m\u001b[0mcursor\u001b[0m\u001b[0;34m)\u001b[0m\u001b[0;34m\u001b[0m\u001b[0;34m\u001b[0m\u001b[0m\n\u001b[0m\u001b[1;32m   1798\u001b[0m \u001b[0;34m\u001b[0m\u001b[0m\n\u001b[1;32m   1799\u001b[0m     \u001b[0;32mdef\u001b[0m \u001b[0m_fetchmany_impl\u001b[0m\u001b[0;34m(\u001b[0m\u001b[0mself\u001b[0m\u001b[0;34m,\u001b[0m \u001b[0msize\u001b[0m\u001b[0;34m=\u001b[0m\u001b[0;32mNone\u001b[0m\u001b[0;34m)\u001b[0m\u001b[0;34m:\u001b[0m\u001b[0;34m\u001b[0m\u001b[0;34m\u001b[0m\u001b[0m\n",
      "\u001b[0;32m~/anaconda3/lib/python3.8/site-packages/sqlalchemy/engine/cursor.py\u001b[0m in \u001b[0;36mfetchall\u001b[0;34m(self, result, dbapi_cursor)\u001b[0m\n\u001b[1;32m    979\u001b[0m             \u001b[0;32mreturn\u001b[0m \u001b[0mrows\u001b[0m\u001b[0;34m\u001b[0m\u001b[0;34m\u001b[0m\u001b[0m\n\u001b[1;32m    980\u001b[0m         \u001b[0;32mexcept\u001b[0m \u001b[0mBaseException\u001b[0m \u001b[0;32mas\u001b[0m \u001b[0me\u001b[0m\u001b[0;34m:\u001b[0m\u001b[0;34m\u001b[0m\u001b[0;34m\u001b[0m\u001b[0m\n\u001b[0;32m--> 981\u001b[0;31m             \u001b[0mself\u001b[0m\u001b[0;34m.\u001b[0m\u001b[0mhandle_exception\u001b[0m\u001b[0;34m(\u001b[0m\u001b[0mresult\u001b[0m\u001b[0;34m,\u001b[0m \u001b[0mdbapi_cursor\u001b[0m\u001b[0;34m,\u001b[0m \u001b[0me\u001b[0m\u001b[0;34m)\u001b[0m\u001b[0;34m\u001b[0m\u001b[0;34m\u001b[0m\u001b[0m\n\u001b[0m\u001b[1;32m    982\u001b[0m \u001b[0;34m\u001b[0m\u001b[0m\n\u001b[1;32m    983\u001b[0m \u001b[0;34m\u001b[0m\u001b[0m\n",
      "\u001b[0;32m~/anaconda3/lib/python3.8/site-packages/sqlalchemy/engine/cursor.py\u001b[0m in \u001b[0;36mhandle_exception\u001b[0;34m(self, result, dbapi_cursor, err)\u001b[0m\n\u001b[1;32m    939\u001b[0m \u001b[0;34m\u001b[0m\u001b[0m\n\u001b[1;32m    940\u001b[0m     \u001b[0;32mdef\u001b[0m \u001b[0mhandle_exception\u001b[0m\u001b[0;34m(\u001b[0m\u001b[0mself\u001b[0m\u001b[0;34m,\u001b[0m \u001b[0mresult\u001b[0m\u001b[0;34m,\u001b[0m \u001b[0mdbapi_cursor\u001b[0m\u001b[0;34m,\u001b[0m \u001b[0merr\u001b[0m\u001b[0;34m)\u001b[0m\u001b[0;34m:\u001b[0m\u001b[0;34m\u001b[0m\u001b[0;34m\u001b[0m\u001b[0m\n\u001b[0;32m--> 941\u001b[0;31m         result.connection._handle_dbapi_exception(\n\u001b[0m\u001b[1;32m    942\u001b[0m             \u001b[0merr\u001b[0m\u001b[0;34m,\u001b[0m \u001b[0;32mNone\u001b[0m\u001b[0;34m,\u001b[0m \u001b[0;32mNone\u001b[0m\u001b[0;34m,\u001b[0m \u001b[0mdbapi_cursor\u001b[0m\u001b[0;34m,\u001b[0m \u001b[0mresult\u001b[0m\u001b[0;34m.\u001b[0m\u001b[0mcontext\u001b[0m\u001b[0;34m\u001b[0m\u001b[0;34m\u001b[0m\u001b[0m\n\u001b[1;32m    943\u001b[0m         )\n",
      "\u001b[0;32m~/anaconda3/lib/python3.8/site-packages/sqlalchemy/engine/base.py\u001b[0m in \u001b[0;36m_handle_dbapi_exception\u001b[0;34m(self, e, statement, parameters, cursor, context)\u001b[0m\n\u001b[1;32m   1997\u001b[0m                 )\n\u001b[1;32m   1998\u001b[0m             \u001b[0;32melse\u001b[0m\u001b[0;34m:\u001b[0m\u001b[0;34m\u001b[0m\u001b[0;34m\u001b[0m\u001b[0m\n\u001b[0;32m-> 1999\u001b[0;31m                 \u001b[0mutil\u001b[0m\u001b[0;34m.\u001b[0m\u001b[0mraise_\u001b[0m\u001b[0;34m(\u001b[0m\u001b[0mexc_info\u001b[0m\u001b[0;34m[\u001b[0m\u001b[0;36m1\u001b[0m\u001b[0;34m]\u001b[0m\u001b[0;34m,\u001b[0m \u001b[0mwith_traceback\u001b[0m\u001b[0;34m=\u001b[0m\u001b[0mexc_info\u001b[0m\u001b[0;34m[\u001b[0m\u001b[0;36m2\u001b[0m\u001b[0;34m]\u001b[0m\u001b[0;34m)\u001b[0m\u001b[0;34m\u001b[0m\u001b[0;34m\u001b[0m\u001b[0m\n\u001b[0m\u001b[1;32m   2000\u001b[0m \u001b[0;34m\u001b[0m\u001b[0m\n\u001b[1;32m   2001\u001b[0m         \u001b[0;32mfinally\u001b[0m\u001b[0;34m:\u001b[0m\u001b[0;34m\u001b[0m\u001b[0;34m\u001b[0m\u001b[0m\n",
      "\u001b[0;32m~/anaconda3/lib/python3.8/site-packages/sqlalchemy/util/compat.py\u001b[0m in \u001b[0;36mraise_\u001b[0;34m(***failed resolving arguments***)\u001b[0m\n\u001b[1;32m    205\u001b[0m \u001b[0;34m\u001b[0m\u001b[0m\n\u001b[1;32m    206\u001b[0m         \u001b[0;32mtry\u001b[0m\u001b[0;34m:\u001b[0m\u001b[0;34m\u001b[0m\u001b[0;34m\u001b[0m\u001b[0m\n\u001b[0;32m--> 207\u001b[0;31m             \u001b[0;32mraise\u001b[0m \u001b[0mexception\u001b[0m\u001b[0;34m\u001b[0m\u001b[0;34m\u001b[0m\u001b[0m\n\u001b[0m\u001b[1;32m    208\u001b[0m         \u001b[0;32mfinally\u001b[0m\u001b[0;34m:\u001b[0m\u001b[0;34m\u001b[0m\u001b[0;34m\u001b[0m\u001b[0m\n\u001b[1;32m    209\u001b[0m             \u001b[0;31m# credit to\u001b[0m\u001b[0;34m\u001b[0m\u001b[0;34m\u001b[0m\u001b[0;34m\u001b[0m\u001b[0m\n",
      "\u001b[0;32m~/anaconda3/lib/python3.8/site-packages/sqlalchemy/engine/cursor.py\u001b[0m in \u001b[0;36mfetchall\u001b[0;34m(self, result, dbapi_cursor)\u001b[0m\n\u001b[1;32m    975\u001b[0m     \u001b[0;32mdef\u001b[0m \u001b[0mfetchall\u001b[0m\u001b[0;34m(\u001b[0m\u001b[0mself\u001b[0m\u001b[0;34m,\u001b[0m \u001b[0mresult\u001b[0m\u001b[0;34m,\u001b[0m \u001b[0mdbapi_cursor\u001b[0m\u001b[0;34m)\u001b[0m\u001b[0;34m:\u001b[0m\u001b[0;34m\u001b[0m\u001b[0;34m\u001b[0m\u001b[0m\n\u001b[1;32m    976\u001b[0m         \u001b[0;32mtry\u001b[0m\u001b[0;34m:\u001b[0m\u001b[0;34m\u001b[0m\u001b[0;34m\u001b[0m\u001b[0m\n\u001b[0;32m--> 977\u001b[0;31m             \u001b[0mrows\u001b[0m \u001b[0;34m=\u001b[0m \u001b[0mdbapi_cursor\u001b[0m\u001b[0;34m.\u001b[0m\u001b[0mfetchall\u001b[0m\u001b[0;34m(\u001b[0m\u001b[0;34m)\u001b[0m\u001b[0;34m\u001b[0m\u001b[0;34m\u001b[0m\u001b[0m\n\u001b[0m\u001b[1;32m    978\u001b[0m             \u001b[0mresult\u001b[0m\u001b[0;34m.\u001b[0m\u001b[0m_soft_close\u001b[0m\u001b[0;34m(\u001b[0m\u001b[0;34m)\u001b[0m\u001b[0;34m\u001b[0m\u001b[0;34m\u001b[0m\u001b[0m\n\u001b[1;32m    979\u001b[0m             \u001b[0;32mreturn\u001b[0m \u001b[0mrows\u001b[0m\u001b[0;34m\u001b[0m\u001b[0;34m\u001b[0m\u001b[0m\n",
      "\u001b[0;31mKeyboardInterrupt\u001b[0m: "
     ]
    }
   ],
   "source": [
    "merged = merge_cities(df, moscow)"
   ]
  },
  {
   "cell_type": "code",
   "execution_count": null,
   "id": "d6739638",
   "metadata": {},
   "outputs": [],
   "source": []
  }
 ],
 "metadata": {
  "kernelspec": {
   "display_name": "Python 3 (ipykernel)",
   "language": "python",
   "name": "python3"
  },
  "language_info": {
   "codemirror_mode": {
    "name": "ipython",
    "version": 3
   },
   "file_extension": ".py",
   "mimetype": "text/x-python",
   "name": "python",
   "nbconvert_exporter": "python",
   "pygments_lexer": "ipython3",
   "version": "3.8.8"
  }
 },
 "nbformat": 4,
 "nbformat_minor": 5
}
